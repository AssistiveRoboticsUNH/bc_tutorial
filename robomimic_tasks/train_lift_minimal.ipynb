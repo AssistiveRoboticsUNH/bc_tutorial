{
 "cells": [
  {
   "cell_type": "markdown",
   "metadata": {},
   "source": [
    "### installation for colab\n",
    "To Run in Colab: uncomment and run the following"
   ]
  },
  {
   "cell_type": "code",
   "execution_count": null,
   "metadata": {},
   "outputs": [],
   "source": [
    "# !git clone https://github.com/ARISE-Initiative/robomimic\n",
    "# !pip install -e robomimic/\n",
    "\n",
    "# import sys\n",
    "# import os\n",
    "# sys.path.append('./robomimic/')\n",
    "\n",
    "\n",
    "\n",
    "# # install all system dependencies for mujoco-py\n",
    "# !sudo apt install curl git libgl1-mesa-dev libgl1-mesa-glx libglew-dev \\\n",
    "#          libosmesa6-dev software-properties-common net-tools unzip vim \\\n",
    "#          virtualenv wget xserver-xorg-dev libglfw3-dev patchelf\n",
    "\n",
    "# #install mujoco-py\n",
    "# !pip install mujoco\n",
    "\n",
    "# #install robosuite\n",
    "# !pip install robosuite==1.4.1\n",
    "\n",
    "\n",
    "# # download lift ph dataset.\n",
    "# !wget http://downloads.cs.stanford.edu/downloads/rt_benchmark/lift/ph/low_dim_v141.hdf5 -O lift_ph_low_dim_v141.hdf5"
   ]
  },
  {
   "cell_type": "code",
   "execution_count": 1,
   "metadata": {},
   "outputs": [],
   "source": [
    "import os\n",
    "import json\n",
    "import h5py\n",
    "import numpy as np\n",
    "\n",
    "import robomimic\n",
    "import robomimic.utils.file_utils as FileUtils\n",
    "import robomimic.utils.env_utils as EnvUtils\n",
    "import robomimic.utils.obs_utils as ObsUtils\n",
    "import imageio\n",
    "\n",
    "import torch\n",
    "import torch.nn as nn\n",
    "import torch.nn.functional as F \n",
    "from torch.optim import Adam \n",
    "import torch\n",
    "from torchvision import transforms\n",
    "from torch.utils.data import Dataset, DataLoader\n",
    "from matplotlib import pyplot as plt\n",
    "from copy import deepcopy\n",
    "import datetime"
   ]
  },
  {
   "cell_type": "code",
   "execution_count": 2,
   "metadata": {},
   "outputs": [
    {
     "name": "stdout",
     "output_type": "stream",
     "text": [
      "cuda:0\n"
     ]
    }
   ],
   "source": [
    "device= torch.device(\"cuda:0\" if torch.cuda.is_available() else \"cpu\")\n",
    "print(device)"
   ]
  },
  {
   "cell_type": "markdown",
   "metadata": {},
   "source": [
    "### Load Robomimic Lift Dataset"
   ]
  },
  {
   "cell_type": "code",
   "execution_count": 3,
   "metadata": {},
   "outputs": [
    {
     "name": "stdout",
     "output_type": "stream",
     "text": [
      "Number of demos: 200\n"
     ]
    }
   ],
   "source": [
    "dataset_path = \"lift_ph_low_dim_v141.hdf5\"\n",
    "f = h5py.File(dataset_path, \"r\")\n",
    "demos = list(f[\"data\"].keys())\n",
    "num_demos = len(demos)\n",
    "print(f'Number of demos: {num_demos}')"
   ]
  },
  {
   "cell_type": "code",
   "execution_count": 4,
   "metadata": {},
   "outputs": [],
   "source": [
    "select_keys=['object', 'robot0_eef_pos', 'robot0_eef_quat', 'robot0_gripper_qpos']"
   ]
  },
  {
   "cell_type": "code",
   "execution_count": 5,
   "metadata": {},
   "outputs": [
    {
     "data": {
      "text/plain": [
       "((1042, 19), (1042, 7))"
      ]
     },
     "execution_count": 5,
     "metadata": {},
     "output_type": "execute_result"
    }
   ],
   "source": [
    "# we will use a small dataset of first 20 demonstration for faster training\n",
    "n_demo=20\n",
    "actions_list=[]\n",
    "obs_list=[]\n",
    "for i in range(n_demo):\n",
    "    # demo_id='demo_{}'.format(i)\n",
    "    demo_id = demos[i]\n",
    "    traj=f['data'][demo_id]\n",
    " \n",
    "    actions=traj['actions']\n",
    "    select_obs=np.hstack( [traj['obs'][key] for key in select_keys] ) \n",
    "    actions_list.append(actions)\n",
    "    obs_list.append(select_obs)\n",
    "\n",
    "actions_list=np.concatenate(actions_list)\n",
    "obs_list=np.concatenate(obs_list)\n",
    "obs_list.shape, actions_list.shape"
   ]
  },
  {
   "cell_type": "code",
   "execution_count": 6,
   "metadata": {},
   "outputs": [
    {
     "data": {
      "text/plain": [
       "(torch.Size([64, 19]), torch.Size([64, 7]))"
      ]
     },
     "execution_count": 6,
     "metadata": {},
     "output_type": "execute_result"
    }
   ],
   "source": [
    "data_loader = DataLoader( list(zip(obs_list, actions_list)), batch_size=64, shuffle=True)\n",
    "\n",
    "batch=next(iter(data_loader))\n",
    "states,actions = batch\n",
    "states.shape,actions.shape"
   ]
  },
  {
   "cell_type": "code",
   "execution_count": 7,
   "metadata": {},
   "outputs": [
    {
     "name": "stdout",
     "output_type": "stream",
     "text": [
      "19 7\n"
     ]
    }
   ],
   "source": [
    "action_dim=actions.shape[1]\n",
    "state_dim=states.shape[1]\n",
    "print(state_dim, action_dim)"
   ]
  },
  {
   "cell_type": "markdown",
   "metadata": {},
   "source": [
    "### Model"
   ]
  },
  {
   "cell_type": "code",
   "execution_count": 8,
   "metadata": {},
   "outputs": [],
   "source": [
    "class MLP(nn.Module):\n",
    "    def __init__(self, input_dim, size=32):\n",
    "        super(MLP, self).__init__()\n",
    "        self.net = nn.Sequential(\n",
    "            nn.Linear(input_dim,size),\n",
    "            nn.ReLU(), \n",
    "            nn.Linear(size,size),\n",
    "            nn.ReLU() \n",
    "        )\n",
    "    def forward(self,x):\n",
    "        x = self.net(x)\n",
    "        return x\n",
    "    \n",
    "class RegNet(MLP):\n",
    "    def __init__(self, input_dim , size, action_dim):\n",
    "        super(RegNet, self).__init__(input_dim, size)\n",
    "        self.decoder = nn.Linear(size, action_dim)\n",
    "    def forward(self,x):\n",
    "        x = self.net(x)\n",
    "        x = self.decoder(x)\n",
    "        return x"
   ]
  },
  {
   "cell_type": "markdown",
   "metadata": {},
   "source": [
    "### Training"
   ]
  },
  {
   "cell_type": "code",
   "execution_count": 9,
   "metadata": {},
   "outputs": [],
   "source": [
    "learning_rate = 1e-4\n",
    "\n",
    "bc = RegNet(state_dim, 64, action_dim)\n",
    "criterion = nn.MSELoss() \n",
    "optimizer = Adam(bc.parameters(), lr = learning_rate)"
   ]
  },
  {
   "cell_type": "code",
   "execution_count": 10,
   "metadata": {},
   "outputs": [
    {
     "name": "stdout",
     "output_type": "stream",
     "text": [
      "Epoch 0 Loss: 0.2145\n",
      "Epoch 150 Loss: 0.0586\n",
      "Epoch 300 Loss: 0.0367\n",
      "Epoch 450 Loss: 0.0339\n",
      "Epoch 600 Loss: 0.0314\n",
      "Epoch 750 Loss: 0.0304\n",
      "Epoch 900 Loss: 0.0290\n",
      "Epoch 1050 Loss: 0.0282\n",
      "Epoch 1200 Loss: 0.0257\n",
      "Epoch 1350 Loss: 0.0250\n",
      "Epoch 1500 Loss: 0.0232\n",
      "Epoch 1650 Loss: 0.0223\n",
      "Epoch 1800 Loss: 0.0211\n",
      "Epoch 1950 Loss: 0.0208\n",
      "Epoch 2100 Loss: 0.0198\n",
      "Epoch 2250 Loss: 0.0202\n",
      "Epoch 2400 Loss: 0.0187\n",
      "Epoch 2550 Loss: 0.0184\n",
      "Epoch 2700 Loss: 0.0188\n",
      "Epoch 2850 Loss: 0.0179\n",
      "Epoch 3000 Loss: 0.0170\n"
     ]
    }
   ],
   "source": [
    "loss_list = [] \n",
    "n_epoch = 3_000\n",
    " \n",
    "for itr in range(0, n_epoch+1):\n",
    "    total_loss = 0\n",
    "    b=0\n",
    "    for batch_states, batch_actions in data_loader: \n",
    "        y_pred = bc(batch_states.float())\n",
    "        loss   = criterion(y_pred, batch_actions.float()) \n",
    "        total_loss += loss.item() \n",
    "        optimizer.zero_grad()\n",
    "        loss.backward()\n",
    "        optimizer.step()\n",
    "        b += 1 \n",
    "        \n",
    "        loss_list.append(loss.item())\n",
    "        \n",
    "    if itr % (n_epoch//20)==0:\n",
    "        print(f'Epoch {itr} Loss: {total_loss/b:.4f}')"
   ]
  },
  {
   "cell_type": "code",
   "execution_count": null,
   "metadata": {},
   "outputs": [],
   "source": []
  },
  {
   "cell_type": "markdown",
   "metadata": {},
   "source": [
    "### Inference"
   ]
  },
  {
   "cell_type": "code",
   "execution_count": 12,
   "metadata": {},
   "outputs": [
    {
     "name": "stderr",
     "output_type": "stream",
     "text": [
      "[robosuite WARNING] No private macro file found! (macros.py:53)\n",
      "[robosuite WARNING] It is recommended to use a private macro file (macros.py:54)\n",
      "[robosuite WARNING] To setup, run: python /home/ns/robosuite/robosuite/scripts/setup_macros.py (macros.py:55)\n"
     ]
    },
    {
     "name": "stdout",
     "output_type": "stream",
     "text": [
      "Created environment with name Lift\n",
      "Action size is 7\n",
      "ROBOMIMIC WARNING(\n",
      "    No environment version found in dataset!\n",
      "    Cannot verify if dataset and installed environment versions match\n",
      ")\n",
      "\n",
      "============= Initialized Observation Utils with Obs Spec =============\n",
      "\n",
      "using obs modality: low_dim with keys: ['robot0_eef_pos']\n",
      "using obs modality: rgb with keys: []\n"
     ]
    }
   ],
   "source": [
    "env_meta=FileUtils.get_env_metadata_from_dataset(dataset_path)\n",
    "env = EnvUtils.create_env_from_metadata(\n",
    "    env_meta=env_meta, \n",
    "    render=False,            # no on-screen rendering\n",
    "    render_offscreen=True,   # off-screen rendering to support rendering video frames\n",
    ")\n",
    "dummy_spec = dict(  obs=dict( low_dim=[\"robot0_eef_pos\"], rgb=[], ),)\n",
    "ObsUtils.initialize_obs_utils_with_obs_specs(obs_modality_specs=dummy_spec)"
   ]
  },
  {
   "cell_type": "code",
   "execution_count": 13,
   "metadata": {},
   "outputs": [],
   "source": [
    "def rollout(env, rollout_horizon = 400, video_path=None):\n",
    "    total_reward=0 \n",
    "    select_keys=['object', 'robot0_eef_pos', 'robot0_eef_quat', 'robot0_gripper_qpos']\n",
    "\n",
    "    obs = env.reset()\n",
    "    state_dict = env.get_state()\n",
    "    # hack that is necessary for robosuite tasks for deterministic action playback\n",
    "    # obs = env.reset_to(state_dict)\n",
    "\n",
    "    if video_path is not None:\n",
    "        video_writer = imageio.get_writer(video_path, fps=20)\n",
    "        print(f\"Writing video to {video_path}\")\n",
    "    camera_names=[\"agentview\"]\n",
    "\n",
    "    for step_i in range(rollout_horizon):\n",
    "        select_obs=np.hstack( [obs[key] for key in select_keys] ) \n",
    "        state=torch.from_numpy(select_obs).float()\n",
    "        # state=state.to(device='cuda')\n",
    "\n",
    "        act = bc(state).detach().cpu().numpy()\n",
    "        next_obs, r, done, _ = env.step(act)\n",
    "\n",
    "        # compute reward\n",
    "        total_reward += r\n",
    "        success = env.is_success()[\"task\"]\n",
    "\n",
    "        if video_path is not None:\n",
    "            video_img = env.render(mode=\"rgb_array\", height=512, width=512, camera_name=\"agentview\")\n",
    "            video_writer.append_data(video_img)\n",
    "\n",
    "\n",
    "        # break if done or if success\n",
    "        if done or success:\n",
    "            # print(f'stop: done={done} success={success}')\n",
    "            break\n",
    "\n",
    "        # update for next iter\n",
    "        obs = deepcopy(next_obs)\n",
    "\n",
    "    if video_path is not None:\n",
    "        video_writer.close()\n",
    "    return total_reward"
   ]
  },
  {
   "cell_type": "code",
   "execution_count": 14,
   "metadata": {},
   "outputs": [
    {
     "name": "stdout",
     "output_type": "stream",
     "text": [
      "Rollout 0 Success: 1.0\n",
      "Rollout 1 Success: 1.0\n",
      "Rollout 2 Success: 1.0\n",
      "Rollout 3 Success: 1.0\n",
      "Rollout 4 Success: 1.0\n",
      "Rollout 5 Success: 1.0\n",
      "Rollout 6 Success: 1.0\n",
      "Rollout 7 Success: 1.0\n",
      "Rollout 8 Success: 1.0\n",
      "Rollout 9 Success: 1.0\n",
      "Rollout 10 Success: 1.0\n",
      "Rollout 11 Success: 1.0\n",
      "Rollout 12 Success: 1.0\n",
      "Rollout 13 Success: 1.0\n",
      "Rollout 14 Success: 1.0\n",
      "Rollout 15 Success: 1.0\n",
      "Rollout 16 Success: 1.0\n",
      "Rollout 17 Success: 1.0\n",
      "Rollout 18 Success: 1.0\n",
      "Rollout 19 Success: 1.0\n",
      "\n",
      "Average Reward: 1.00\n"
     ]
    }
   ],
   "source": [
    "n_rollout=20\n",
    "s=0\n",
    "for i in range(n_rollout):\n",
    "    r=rollout(env, video_path=None)\n",
    "    s+=r\n",
    "    print(f'Rollout {i} Success: {r}')\n",
    "\n",
    "print(f'\\nAverage Reward: {s/n_rollout:.2f}')"
   ]
  },
  {
   "cell_type": "code",
   "execution_count": null,
   "metadata": {},
   "outputs": [],
   "source": []
  },
  {
   "cell_type": "markdown",
   "metadata": {},
   "source": [
    "### Render a video"
   ]
  },
  {
   "cell_type": "code",
   "execution_count": 15,
   "metadata": {},
   "outputs": [
    {
     "name": "stdout",
     "output_type": "stream",
     "text": [
      "Writing video to lift_bc.mp4\n"
     ]
    },
    {
     "data": {
      "text/plain": [
       "1.0"
      ]
     },
     "execution_count": 15,
     "metadata": {},
     "output_type": "execute_result"
    }
   ],
   "source": [
    "r=rollout(env, video_path=\"lift_bc.mp4\")\n",
    "r"
   ]
  },
  {
   "cell_type": "code",
   "execution_count": 1,
   "metadata": {},
   "outputs": [
    {
     "data": {
      "text/html": [
       "\n",
       "<video width=400 controls>\n",
       "      <source src=\"data:video/mp4;base64,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\" type=\"video/mp4\">\n",
       "</video>\n"
      ],
      "text/plain": [
       "<IPython.core.display.HTML object>"
      ]
     },
     "execution_count": 1,
     "metadata": {},
     "output_type": "execute_result"
    }
   ],
   "source": [
    "from IPython.display import HTML\n",
    "from base64 import b64encode\n",
    "\n",
    "video_path = 'lift_bc.mp4'\n",
    "\n",
    "mp4 = open(video_path, \"rb\").read()\n",
    "data_url = \"data:video/mp4;base64,\" + b64encode(mp4).decode()\n",
    "HTML(f\"\"\"\n",
    "<video width=400 controls>\n",
    "      <source src=\"{data_url}\" type=\"video/mp4\">\n",
    "</video>\n",
    "\"\"\")"
   ]
  },
  {
   "cell_type": "code",
   "execution_count": null,
   "metadata": {},
   "outputs": [],
   "source": []
  },
  {
   "cell_type": "code",
   "execution_count": null,
   "metadata": {},
   "outputs": [],
   "source": []
  },
  {
   "cell_type": "code",
   "execution_count": null,
   "metadata": {},
   "outputs": [],
   "source": []
  },
  {
   "cell_type": "code",
   "execution_count": null,
   "metadata": {},
   "outputs": [],
   "source": []
  },
  {
   "cell_type": "code",
   "execution_count": null,
   "metadata": {},
   "outputs": [],
   "source": []
  },
  {
   "cell_type": "code",
   "execution_count": null,
   "metadata": {},
   "outputs": [],
   "source": []
  },
  {
   "cell_type": "code",
   "execution_count": null,
   "metadata": {},
   "outputs": [],
   "source": []
  },
  {
   "cell_type": "code",
   "execution_count": null,
   "metadata": {},
   "outputs": [],
   "source": []
  },
  {
   "cell_type": "code",
   "execution_count": null,
   "metadata": {},
   "outputs": [],
   "source": []
  },
  {
   "cell_type": "code",
   "execution_count": null,
   "metadata": {},
   "outputs": [],
   "source": []
  },
  {
   "cell_type": "code",
   "execution_count": null,
   "metadata": {},
   "outputs": [],
   "source": []
  },
  {
   "cell_type": "code",
   "execution_count": null,
   "metadata": {},
   "outputs": [],
   "source": []
  },
  {
   "cell_type": "code",
   "execution_count": null,
   "metadata": {},
   "outputs": [],
   "source": []
  }
 ],
 "metadata": {
  "kernelspec": {
   "display_name": "Python 3",
   "language": "python",
   "name": "python3"
  },
  "language_info": {
   "codemirror_mode": {
    "name": "ipython",
    "version": 3
   },
   "file_extension": ".py",
   "mimetype": "text/x-python",
   "name": "python",
   "nbconvert_exporter": "python",
   "pygments_lexer": "ipython3",
   "version": "3.9.12"
  }
 },
 "nbformat": 4,
 "nbformat_minor": 2
}
