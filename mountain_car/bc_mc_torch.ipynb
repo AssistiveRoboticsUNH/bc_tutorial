{
 "cells": [
  {
   "cell_type": "markdown",
   "id": "60f52822",
   "metadata": {},
   "source": [
    "### installation for colab\n",
    "To Run in Colab: uncomment and run the following"
   ]
  },
  {
   "cell_type": "code",
   "execution_count": null,
   "id": "c2d7fc28",
   "metadata": {},
   "outputs": [],
   "source": [
    "# !git clone https://github.com/AssistiveRoboticsUNH/bc_tutorial.git\n",
    "# !pip install gym==0.26.2"
   ]
  },
  {
   "cell_type": "code",
   "execution_count": 1,
   "id": "91851ae5",
   "metadata": {},
   "outputs": [],
   "source": [
    "import warnings\n",
    "warnings.filterwarnings(\"ignore\")"
   ]
  },
  {
   "cell_type": "code",
   "execution_count": 2,
   "id": "7b86c65a",
   "metadata": {},
   "outputs": [],
   "source": [
    "import numpy as np \n",
    "import gym\n",
    "import torch\n",
    "import torch.nn as nn\n",
    "import torch.nn.functional as F\n",
    "from matplotlib import pyplot as plt\n",
    "import pickle \n",
    "import imageio"
   ]
  },
  {
   "cell_type": "markdown",
   "id": "18064b43",
   "metadata": {},
   "source": [
    "### Prepare data"
   ]
  },
  {
   "cell_type": "code",
   "execution_count": 3,
   "id": "216e6cec",
   "metadata": {},
   "outputs": [
    {
     "name": "stdout",
     "output_type": "stream",
     "text": [
      "Number of trajectories: 4\n"
     ]
    }
   ],
   "source": [
    "# data_path = \"expert_data/human_demos_4_-111.0.pkl\"\n",
    "data_path = \"/content/bc_tutorial/mountain_car/expert_data/human_demos_4_-111.0.pkl\"\n",
    "\n",
    "\n",
    "with open(data_path, 'rb') as f:\n",
    "    trajs = pickle.load(f)\n",
    "\n",
    "print(f\"Number of trajectories: {len(trajs)}\") "
   ]
  },
  {
   "cell_type": "code",
   "execution_count": 4,
   "id": "886d7adb",
   "metadata": {},
   "outputs": [
    {
     "data": {
      "text/plain": [
       "((438, 2), (438,))"
      ]
     },
     "execution_count": 4,
     "metadata": {},
     "output_type": "execute_result"
    }
   ],
   "source": [
    "states=[]\n",
    "actions=[]\n",
    "for traj in trajs:\n",
    "    for state,action in traj:\n",
    "        states.append(state)\n",
    "        actions.append(action)\n",
    "\n",
    "states=np.array(states)\n",
    "actions=np.array(actions)\n",
    "\n",
    "states.shape,actions.shape"
   ]
  },
  {
   "cell_type": "code",
   "execution_count": 5,
   "id": "deec36d0",
   "metadata": {},
   "outputs": [
    {
     "data": {
      "text/plain": [
       "3"
      ]
     },
     "execution_count": 5,
     "metadata": {},
     "output_type": "execute_result"
    }
   ],
   "source": [
    "num_classes = np.max(actions)+1 \n",
    "num_classes"
   ]
  },
  {
   "cell_type": "code",
   "execution_count": 6,
   "id": "c4198d75",
   "metadata": {},
   "outputs": [
    {
     "data": {
      "text/plain": [
       "(torch.Size([64, 2]), torch.Size([64]))"
      ]
     },
     "execution_count": 6,
     "metadata": {},
     "output_type": "execute_result"
    }
   ],
   "source": [
    "data_loader = torch.utils.data.DataLoader( list(zip(states, actions)), batch_size=64, shuffle=True)\n",
    "\n",
    "batch=next(iter(data_loader))\n",
    "states,actions = batch\n",
    "states.shape,actions.shape"
   ]
  },
  {
   "cell_type": "markdown",
   "id": "da1b52cf",
   "metadata": {},
   "source": [
    "### Training"
   ]
  },
  {
   "cell_type": "code",
   "execution_count": 7,
   "id": "70d56fe9",
   "metadata": {},
   "outputs": [],
   "source": [
    "class BcNet(nn.Module):\n",
    "    def __init__(self, state_dim, action_dim):\n",
    "        super(BcNet, self).__init__()\n",
    "        self.layer1 = nn.Linear(state_dim, 64)\n",
    "        self.layer2 = nn.Linear(64, 32) \n",
    "        self.layer3 = nn.Linear(32, action_dim)\n",
    "        \n",
    "    def forward(self, x):\n",
    "        x = F.relu(self.layer1(x))\n",
    "        x = F.relu(self.layer2(x)) \n",
    "        x = self.layer3(x)\n",
    "        # x = F.softmax(x, dim=1)\n",
    "        return x"
   ]
  },
  {
   "cell_type": "code",
   "execution_count": 8,
   "id": "412bc062",
   "metadata": {},
   "outputs": [],
   "source": [
    "bc= BcNet(2, 3)\n",
    "criterion = nn.CrossEntropyLoss()\n",
    "learning_rate = 0.01\n",
    "optimizer = torch.optim.Adam(bc.parameters(), lr = learning_rate)"
   ]
  },
  {
   "cell_type": "code",
   "execution_count": null,
   "id": "58f9d965",
   "metadata": {},
   "outputs": [],
   "source": []
  },
  {
   "cell_type": "code",
   "execution_count": 9,
   "id": "5710fc27",
   "metadata": {},
   "outputs": [
    {
     "name": "stdout",
     "output_type": "stream",
     "text": [
      "iteration: 0, loss: 0.7623139023780823\n",
      "iteration: 10, loss: 0.46693503856658936\n",
      "iteration: 20, loss: 0.12156796455383301\n",
      "iteration: 30, loss: 0.08797335624694824\n",
      "iteration: 40, loss: 0.11853441596031189\n",
      "iteration: 50, loss: 0.1830071061849594\n",
      "iteration: 60, loss: 0.20077437162399292\n",
      "iteration: 70, loss: 0.05155340954661369\n",
      "iteration: 80, loss: 0.041541144251823425\n",
      "iteration: 90, loss: 0.11805929243564606\n",
      "iteration: 100, loss: 0.07951048016548157\n",
      "iteration: 110, loss: 0.052611660212278366\n",
      "iteration: 120, loss: 0.2533944249153137\n",
      "iteration: 130, loss: 0.03072521649301052\n",
      "iteration: 140, loss: 0.10042694211006165\n",
      "iteration: 150, loss: 0.05507858097553253\n",
      "iteration: 160, loss: 0.022443490102887154\n",
      "iteration: 170, loss: 0.031161952763795853\n",
      "iteration: 180, loss: 0.137659952044487\n",
      "iteration: 190, loss: 0.07306943833827972\n",
      "iteration: 200, loss: 0.1001579761505127\n",
      "iteration: 210, loss: 0.1104620173573494\n",
      "iteration: 220, loss: 0.032606445252895355\n",
      "iteration: 230, loss: 0.06138146296143532\n",
      "iteration: 240, loss: 0.15703190863132477\n",
      "iteration: 250, loss: 0.011691603809595108\n"
     ]
    }
   ],
   "source": [
    "loss_list = []  \n",
    "n_epoch = 250\n",
    " \n",
    "for itr in range(0, n_epoch+1):\n",
    "    for batch_states, batch_actions in data_loader:\n",
    "        y_pred = bc(batch_states)\n",
    "        loss = criterion(y_pred, batch_actions)\n",
    "        optimizer.zero_grad()\n",
    "        loss.backward()\n",
    "        optimizer.step()\n",
    "        loss_list.append(loss.item())\n",
    "        \n",
    "    if itr % 10 == 0:\n",
    "        print(f'iteration: {itr}, loss: {loss.item()}')"
   ]
  },
  {
   "cell_type": "code",
   "execution_count": 10,
   "id": "6d830843",
   "metadata": {},
   "outputs": [
    {
     "data": {
      "text/plain": [
       "[<matplotlib.lines.Line2D at 0x7a9eb817d670>]"
      ]
     },
     "execution_count": 10,
     "metadata": {},
     "output_type": "execute_result"
    },
    {
     "data": {
      "image/png": "[encoded data removed]",
      "text/plain": [
       "<Figure size 432x288 with 1 Axes>"
      ]
     },
     "metadata": {
      "needs_background": "light"
     },
     "output_type": "display_data"
    }
   ],
   "source": [
    "plt.plot(loss_list)"
   ]
  },
  {
   "cell_type": "code",
   "execution_count": null,
   "id": "bd1ed56b",
   "metadata": {},
   "outputs": [],
   "source": []
  },
  {
   "cell_type": "code",
   "execution_count": 11,
   "id": "27401eb0",
   "metadata": {},
   "outputs": [
    {
     "name": "stdout",
     "output_type": "stream",
     "text": [
      "training accuracy:  tensor(1.)\n"
     ]
    }
   ],
   "source": [
    "bc.eval()\n",
    "train_x=torch.tensor(states).float()\n",
    "train_y=torch.tensor(actions).long()\n",
    "with torch.no_grad():\n",
    "    y_pred = bc(train_x)\n",
    "    correct = (torch.argmax(y_pred, dim=1) == train_y ).type(torch.FloatTensor)\n",
    "    print('training accuracy: ', correct.mean())"
   ]
  },
  {
   "cell_type": "code",
   "execution_count": null,
   "id": "b0a8f93a",
   "metadata": {},
   "outputs": [],
   "source": []
  },
  {
   "cell_type": "markdown",
   "id": "6ec623aa",
   "metadata": {},
   "source": [
    "### Rollout"
   ]
  },
  {
   "cell_type": "code",
   "execution_count": 12,
   "id": "f2adf6d5",
   "metadata": {},
   "outputs": [],
   "source": [
    "env_name='MountainCar-v0'"
   ]
  },
  {
   "cell_type": "code",
   "execution_count": 13,
   "id": "23fd31da",
   "metadata": {},
   "outputs": [],
   "source": [
    "def play_an_episode(env_name, model, video_path=None, max_steps=1000):\n",
    "    video_writer=None \n",
    "    if video_path is not None:\n",
    "        print(f'Saving video to {video_path}')\n",
    "        video_writer = imageio.get_writer(video_path, fps=20)\n",
    "        env=gym.make(env_name, render_mode='rgb_array')\n",
    "    else:\n",
    "        env=gym.make(env_name)\n",
    "\n",
    "    obs,_=env.reset()\n",
    "    rewards=0\n",
    "    step=0\n",
    "    for _ in range(max_steps):\n",
    "        step+=1\n",
    "        obs=torch.tensor(obs).float()\n",
    "        predict=model(obs)\n",
    "        action=torch.argmax(predict).item() \n",
    "        obs, reward, done, trunc,_ = env.step(action)\n",
    "\n",
    "        if video_path is not None:\n",
    "            image=env.render()\n",
    "            video_writer.append_data(image)\n",
    "\n",
    "        rewards+=reward\n",
    "        if done or trunc:\n",
    "            break\n",
    "\n",
    "    if video_path is not None:\n",
    "        video_writer.close()\n",
    "    return {'reward':rewards, 'step':step-1}"
   ]
  },
  {
   "cell_type": "code",
   "execution_count": 14,
   "id": "bdd8c3ae",
   "metadata": {},
   "outputs": [
    {
     "name": "stdout",
     "output_type": "stream",
     "text": [
      "episode #0 reward: -200.00\n",
      "episode #1 reward: -200.00\n",
      "episode #2 reward: -121.00\n",
      "episode #3 reward: -113.00\n",
      "episode #4 reward: -200.00\n",
      "episode #5 reward: -112.00\n",
      "episode #6 reward: -114.00\n",
      "episode #7 reward: -116.00\n",
      "episode #8 reward: -117.00\n",
      "episode #9 reward: -112.00\n",
      "episode #10 reward: -114.00\n",
      "episode #11 reward: -122.00\n",
      "episode #12 reward: -115.00\n",
      "episode #13 reward: -200.00\n",
      "episode #14 reward: -113.00\n",
      "episode #15 reward: -117.00\n",
      "episode #16 reward: -113.00\n",
      "episode #17 reward: -120.00\n",
      "episode #18 reward: -112.00\n",
      "episode #19 reward: -200.00\n",
      "\n",
      " score: -136.55 +- 36.74\n"
     ]
    }
   ],
   "source": [
    "scores=[]\n",
    "n_trajectory=20\n",
    "for i in range(n_trajectory):\n",
    "    stats=play_an_episode(env_name, bc)\n",
    "    rewards=stats['reward']\n",
    "    print(f'episode #{i} reward: {rewards:0.2f}')\n",
    "    scores.append(rewards)\n",
    "\n",
    "print(f'\\n score: {np.mean(scores):0.2f} +- {np.std(scores):0.2f}')"
   ]
  },
  {
   "cell_type": "code",
   "execution_count": null,
   "id": "9f88f8e2",
   "metadata": {},
   "outputs": [],
   "source": []
  },
  {
   "cell_type": "markdown",
   "id": "22b03f8e",
   "metadata": {},
   "source": [
    "### Let's render and save a video using the learned policy."
   ]
  },
  {
   "cell_type": "code",
   "execution_count": 15,
   "id": "8c478c36",
   "metadata": {},
   "outputs": [
    {
     "name": "stdout",
     "output_type": "stream",
     "text": [
      "Saving video to bc_mc.mp4\n"
     ]
    },
    {
     "name": "stderr",
     "output_type": "stream",
     "text": [
      "IMAGEIO FFMPEG_WRITER WARNING: input image is not divisible by macro_block_size=16, resizing from (600, 400) to (608, 400) to ensure video compatibility with most codecs and players. To prevent resizing, make your input image divisible by the macro_block_size or set the macro_block_size to 1 (risking incompatibility).\n",
      "[swscaler @ 0x6f60480] Warning: data is not aligned! This can lead to a speed loss\n"
     ]
    },
    {
     "data": {
      "text/plain": [
       "{'reward': -112.0, 'step': 111}"
      ]
     },
     "execution_count": 15,
     "metadata": {},
     "output_type": "execute_result"
    }
   ],
   "source": [
    "stats=play_an_episode(env_name, bc, video_path='bc_mc.mp4')\n",
    "stats "
   ]
  },
  {
   "cell_type": "code",
   "execution_count": null,
   "id": "92c16e63",
   "metadata": {},
   "outputs": [],
   "source": [
    "# from IPython.display import Video\n",
    "# Video('bc_mc.mp4' )"
   ]
  },
  {
   "cell_type": "code",
   "execution_count": 1,
   "id": "eb4ee856",
   "metadata": {},
   "outputs": [
    {
     "data": {
      "text/html": [
       "\n",
       "<video width=400 controls>\n",
       "      <source src=\"data:video/mp4;base64,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\" type=\"video/mp4\">\n",
       "</video>\n"
      ],
      "text/plain": [
       "<IPython.core.display.HTML object>"
      ]
     },
     "execution_count": 1,
     "metadata": {},
     "output_type": "execute_result"
    }
   ],
   "source": [
    "from IPython.display import HTML\n",
    "from base64 import b64encode\n",
    "\n",
    "video_path = 'bc_mc.mp4'\n",
    "\n",
    "mp4 = open(video_path, \"rb\").read()\n",
    "data_url = \"data:video/mp4;base64,\" + b64encode(mp4).decode()\n",
    "HTML(f\"\"\"\n",
    "<video width=400 controls>\n",
    "      <source src=\"{data_url}\" type=\"video/mp4\">\n",
    "</video>\n",
    "\"\"\")"
   ]
  },
  {
   "cell_type": "code",
   "execution_count": null,
   "id": "22401ae0",
   "metadata": {},
   "outputs": [],
   "source": []
  },
  {
   "cell_type": "code",
   "execution_count": null,
   "id": "ada01545",
   "metadata": {},
   "outputs": [],
   "source": []
  },
  {
   "cell_type": "code",
   "execution_count": null,
   "id": "dcc10200",
   "metadata": {},
   "outputs": [],
   "source": []
  },
  {
   "cell_type": "code",
   "execution_count": null,
   "id": "01232893",
   "metadata": {},
   "outputs": [],
   "source": []
  }
 ],
 "metadata": {
  "kernelspec": {
   "display_name": "Python 3",
   "language": "python",
   "name": "python3"
  },
  "language_info": {
   "codemirror_mode": {
    "name": "ipython",
    "version": 3
   },
   "file_extension": ".py",
   "mimetype": "text/x-python",
   "name": "python",
   "nbconvert_exporter": "python",
   "pygments_lexer": "ipython3",
   "version": "3.9.12"
  }
 },
 "nbformat": 4,
 "nbformat_minor": 5
}
