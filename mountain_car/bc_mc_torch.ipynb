{
 "cells": [
  {
   "cell_type": "code",
   "execution_count": 1,
   "id": "91851ae5",
   "metadata": {},
   "outputs": [],
   "source": [
    "import warnings\n",
    "warnings.filterwarnings(\"ignore\")"
   ]
  },
  {
   "cell_type": "code",
   "execution_count": 2,
   "id": "7b86c65a",
   "metadata": {},
   "outputs": [],
   "source": [
    "import numpy as np \n",
    "import gym\n",
    "import torch\n",
    "import torch.nn as nn\n",
    "import torch.nn.functional as F\n",
    "from matplotlib import pyplot as plt\n",
    "import pickle "
   ]
  },
  {
   "cell_type": "markdown",
   "id": "18064b43",
   "metadata": {},
   "source": [
    "### Prepare data"
   ]
  },
  {
   "cell_type": "code",
   "execution_count": 3,
   "id": "216e6cec",
   "metadata": {},
   "outputs": [
    {
     "name": "stdout",
     "output_type": "stream",
     "text": [
      "Number of trajectories: 4\n"
     ]
    }
   ],
   "source": [
    "data_path = \"expert_data/human_demos_4_-111.0.pkl\"\n",
    "\n",
    "with open(data_path, 'rb') as f:\n",
    "    trajs = pickle.load(f)\n",
    "\n",
    "print(f\"Number of trajectories: {len(trajs)}\") "
   ]
  },
  {
   "cell_type": "code",
   "execution_count": 4,
   "id": "886d7adb",
   "metadata": {},
   "outputs": [
    {
     "data": {
      "text/plain": [
       "((438, 2), (438,))"
      ]
     },
     "execution_count": 4,
     "metadata": {},
     "output_type": "execute_result"
    }
   ],
   "source": [
    "states=[]\n",
    "actions=[]\n",
    "for traj in trajs:\n",
    "    for state,action in traj:\n",
    "        states.append(state)\n",
    "        actions.append(action)\n",
    "\n",
    "states=np.array(states)\n",
    "actions=np.array(actions)\n",
    "\n",
    "states.shape,actions.shape"
   ]
  },
  {
   "cell_type": "code",
   "execution_count": 5,
   "id": "deec36d0",
   "metadata": {},
   "outputs": [
    {
     "data": {
      "text/plain": [
       "3"
      ]
     },
     "execution_count": 5,
     "metadata": {},
     "output_type": "execute_result"
    }
   ],
   "source": [
    "num_classes = np.max(actions)+1 \n",
    "num_classes"
   ]
  },
  {
   "cell_type": "code",
   "execution_count": 6,
   "id": "c4198d75",
   "metadata": {},
   "outputs": [
    {
     "data": {
      "text/plain": [
       "(torch.Size([64, 2]), torch.Size([64]))"
      ]
     },
     "execution_count": 6,
     "metadata": {},
     "output_type": "execute_result"
    }
   ],
   "source": [
    "data_loader = torch.utils.data.DataLoader( list(zip(states, actions)), batch_size=64, shuffle=True)\n",
    "\n",
    "batch=next(iter(data_loader))\n",
    "states,actions = batch\n",
    "states.shape,actions.shape"
   ]
  },
  {
   "cell_type": "markdown",
   "id": "da1b52cf",
   "metadata": {},
   "source": [
    "### Training"
   ]
  },
  {
   "cell_type": "code",
   "execution_count": 7,
   "id": "70d56fe9",
   "metadata": {},
   "outputs": [],
   "source": [
    "class BcNet(nn.Module):\n",
    "    def __init__(self, state_dim, action_dim):\n",
    "        super(BcNet, self).__init__()\n",
    "        self.layer1 = nn.Linear(state_dim, 64)\n",
    "        self.layer2 = nn.Linear(64, 32) \n",
    "        self.layer3 = nn.Linear(32, action_dim)\n",
    "        \n",
    "    def forward(self, x):\n",
    "        x = F.relu(self.layer1(x))\n",
    "        x = F.relu(self.layer2(x)) \n",
    "        x = self.layer3(x)\n",
    "        # x = F.softmax(x, dim=1)\n",
    "        return x"
   ]
  },
  {
   "cell_type": "code",
   "execution_count": 8,
   "id": "412bc062",
   "metadata": {},
   "outputs": [],
   "source": [
    "bc= BcNet(2, 3)\n",
    "criterion = nn.CrossEntropyLoss()\n",
    "learning_rate = 0.01\n",
    "optimizer = torch.optim.Adam(bc.parameters(), lr = learning_rate)"
   ]
  },
  {
   "cell_type": "code",
   "execution_count": null,
   "id": "58f9d965",
   "metadata": {},
   "outputs": [],
   "source": []
  },
  {
   "cell_type": "code",
   "execution_count": 9,
   "id": "5710fc27",
   "metadata": {},
   "outputs": [
    {
     "name": "stdout",
     "output_type": "stream",
     "text": [
      "iteration: 0, loss: 0.7022649049758911\n",
      "iteration: 10, loss: 0.5379179120063782\n",
      "iteration: 20, loss: 0.17465908825397491\n",
      "iteration: 30, loss: 0.08038803189992905\n",
      "iteration: 40, loss: 0.0944850742816925\n",
      "iteration: 50, loss: 0.0969812273979187\n",
      "iteration: 60, loss: 0.058301106095314026\n",
      "iteration: 70, loss: 0.12173084169626236\n",
      "iteration: 80, loss: 0.05167765915393829\n",
      "iteration: 90, loss: 0.09412425756454468\n",
      "iteration: 100, loss: 0.10858570784330368\n",
      "iteration: 110, loss: 0.009873577393591404\n",
      "iteration: 120, loss: 0.03348305821418762\n",
      "iteration: 130, loss: 0.15356414020061493\n",
      "iteration: 140, loss: 0.01077555026859045\n",
      "iteration: 150, loss: 0.0685281828045845\n",
      "iteration: 160, loss: 0.12725389003753662\n",
      "iteration: 170, loss: 0.10064607858657837\n",
      "iteration: 180, loss: 0.15350191295146942\n",
      "iteration: 190, loss: 0.039545826613903046\n",
      "iteration: 200, loss: 0.062423817813396454\n",
      "iteration: 210, loss: 0.011477758176624775\n",
      "iteration: 220, loss: 0.08424977958202362\n",
      "iteration: 230, loss: 0.052521198987960815\n",
      "iteration: 240, loss: 0.005739982705563307\n",
      "iteration: 250, loss: 0.04596569389104843\n"
     ]
    }
   ],
   "source": [
    "loss_list = []  \n",
    "n_epoch = 250\n",
    " \n",
    "for itr in range(0, n_epoch+1):\n",
    "    for batch_states, batch_actions in data_loader:\n",
    "        y_pred = bc(batch_states)\n",
    "        loss = criterion(y_pred, batch_actions)\n",
    "        optimizer.zero_grad()\n",
    "        loss.backward()\n",
    "        optimizer.step()\n",
    "        loss_list.append(loss.item())\n",
    "        \n",
    "    if itr % 10 == 0:\n",
    "        print(f'iteration: {itr}, loss: {loss.item()}')"
   ]
  },
  {
   "cell_type": "code",
   "execution_count": 10,
   "id": "6d830843",
   "metadata": {},
   "outputs": [
    {
     "data": {
      "text/plain": [
       "[<matplotlib.lines.Line2D at 0x7f8c442bd490>]"
      ]
     },
     "execution_count": 10,
     "metadata": {},
     "output_type": "execute_result"
    },
    {
     "data": {
      "image/png": "[encoded data removed]",
      "text/plain": [
       "<Figure size 432x288 with 1 Axes>"
      ]
     },
     "metadata": {
      "needs_background": "light"
     },
     "output_type": "display_data"
    }
   ],
   "source": [
    "plt.plot(loss_list)"
   ]
  },
  {
   "cell_type": "code",
   "execution_count": null,
   "id": "bd1ed56b",
   "metadata": {},
   "outputs": [],
   "source": []
  },
  {
   "cell_type": "code",
   "execution_count": 11,
   "id": "27401eb0",
   "metadata": {},
   "outputs": [
    {
     "name": "stdout",
     "output_type": "stream",
     "text": [
      "training accuracy:  tensor(0.9688)\n"
     ]
    }
   ],
   "source": [
    "bc.eval()\n",
    "train_x=torch.tensor(states).float()\n",
    "train_y=torch.tensor(actions).long()\n",
    "with torch.no_grad():\n",
    "    y_pred = bc(train_x)\n",
    "    correct = (torch.argmax(y_pred, dim=1) == train_y ).type(torch.FloatTensor)\n",
    "    print('training accuracy: ', correct.mean())"
   ]
  },
  {
   "cell_type": "code",
   "execution_count": null,
   "id": "b0a8f93a",
   "metadata": {},
   "outputs": [],
   "source": []
  },
  {
   "cell_type": "markdown",
   "id": "66e5f2c7",
   "metadata": {},
   "source": [
    "### Inference"
   ]
  },
  {
   "cell_type": "code",
   "execution_count": 12,
   "id": "dedd7a46",
   "metadata": {},
   "outputs": [
    {
     "data": {
      "text/plain": [
       "Discrete(3)"
      ]
     },
     "execution_count": 12,
     "metadata": {},
     "output_type": "execute_result"
    }
   ],
   "source": [
    "env_name='MountainCar-v0'\n",
    "env = gym.make(env_name)\n",
    "env.action_space"
   ]
  },
  {
   "cell_type": "code",
   "execution_count": 13,
   "id": "3b7358e5",
   "metadata": {},
   "outputs": [],
   "source": [
    "def play_an_episode(env_name, model, render=False, max_step=500):\n",
    "    model.eval()\n",
    "    if render:\n",
    "        env=gym.make(env_name, render_mode='human')\n",
    "    else:\n",
    "        env = gym.make(env_name)\n",
    "    total_reward=0  \n",
    "    state,_=env.reset() \n",
    "    for i in range(max_step):\n",
    "        if render: env.render()\n",
    "        obs=torch.tensor(state).float()\n",
    "        predict=model(obs)\n",
    "        action=torch.argmax(predict).item() \n",
    "        next_state,reward,done,trunc,info=env.step( action )\n",
    "        total_reward+=reward\n",
    "        state=next_state\n",
    "        if done or trunc: break \n",
    "            \n",
    "    env.close()\n",
    "    return total_reward"
   ]
  },
  {
   "cell_type": "markdown",
   "id": "7ac63ac0",
   "metadata": {},
   "source": [
    "### Single rollout (pop-up window)"
   ]
  },
  {
   "cell_type": "code",
   "execution_count": 14,
   "id": "6302dd7e",
   "metadata": {},
   "outputs": [
    {
     "data": {
      "text/plain": [
       "-113.0"
      ]
     },
     "execution_count": 14,
     "metadata": {},
     "output_type": "execute_result"
    }
   ],
   "source": [
    "r=play_an_episode(env_name, bc, render=True)\n",
    "r"
   ]
  },
  {
   "cell_type": "markdown",
   "id": "dfbf5527",
   "metadata": {},
   "source": [
    "### mean reward over rollouts"
   ]
  },
  {
   "cell_type": "code",
   "execution_count": 15,
   "id": "961c548c",
   "metadata": {},
   "outputs": [
    {
     "name": "stdout",
     "output_type": "stream",
     "text": [
      "episode 0, reward: -113.0\n",
      "episode 1, reward: -116.0\n",
      "episode 2, reward: -113.0\n",
      "episode 3, reward: -112.0\n",
      "episode 4, reward: -112.0\n",
      "episode 5, reward: -113.0\n",
      "episode 6, reward: -112.0\n",
      "episode 7, reward: -112.0\n",
      "episode 8, reward: -119.0\n",
      "episode 9, reward: -112.0\n",
      "episode 10, reward: -113.0\n",
      "episode 11, reward: -112.0\n",
      "episode 12, reward: -112.0\n",
      "episode 13, reward: -112.0\n",
      "episode 14, reward: -112.0\n",
      "episode 15, reward: -110.0\n",
      "episode 16, reward: -112.0\n",
      "episode 17, reward: -113.0\n",
      "episode 18, reward: -112.0\n",
      "episode 19, reward: -113.0\n",
      "\n",
      "reward: -112.75 +- 1.79\n"
     ]
    }
   ],
   "source": [
    "rewards=[]\n",
    "n=20\n",
    "for i in range(n):\n",
    "    r=play_an_episode(env_name, bc)\n",
    "    rewards.append(r)\n",
    "    print(f'episode {i}, reward: {r}')\n",
    "\n",
    "r_mean=np.mean(rewards)\n",
    "r_std=np.std(rewards)\n",
    "print(f'\\nreward: {r_mean:0.2f} +- {r_std:0.2f}')"
   ]
  },
  {
   "cell_type": "code",
   "execution_count": null,
   "id": "01923e74",
   "metadata": {},
   "outputs": [],
   "source": []
  },
  {
   "cell_type": "code",
   "execution_count": null,
   "id": "ada01545",
   "metadata": {},
   "outputs": [],
   "source": []
  },
  {
   "cell_type": "code",
   "execution_count": null,
   "id": "dcc10200",
   "metadata": {},
   "outputs": [],
   "source": []
  },
  {
   "cell_type": "code",
   "execution_count": null,
   "id": "01232893",
   "metadata": {},
   "outputs": [],
   "source": []
  }
 ],
 "metadata": {
  "kernelspec": {
   "display_name": "Python 3 (ipykernel)",
   "language": "python",
   "name": "python3"
  },
  "language_info": {
   "codemirror_mode": {
    "name": "ipython",
    "version": 3
   },
   "file_extension": ".py",
   "mimetype": "text/x-python",
   "name": "python",
   "nbconvert_exporter": "python",
   "pygments_lexer": "ipython3",
   "version": "3.9.12"
  }
 },
 "nbformat": 4,
 "nbformat_minor": 5
}
