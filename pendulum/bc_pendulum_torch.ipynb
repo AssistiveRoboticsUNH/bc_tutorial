{
 "cells": [
  {
   "cell_type": "code",
   "execution_count": 1,
   "id": "65edbede",
   "metadata": {},
   "outputs": [],
   "source": [
    "import warnings\n",
    "warnings.filterwarnings('ignore')\n",
    "\n",
    "import numpy as np \n",
    "import gym\n",
    "import torch\n",
    "import torch.nn as nn\n",
    "import torch.functional as F\n",
    "from matplotlib import pyplot as plt\n",
    "import pickle "
   ]
  },
  {
   "cell_type": "markdown",
   "id": "33ce0449",
   "metadata": {},
   "source": [
    "### BC Policy with MSE loss"
   ]
  },
  {
   "cell_type": "code",
   "execution_count": null,
   "id": "59ad2127",
   "metadata": {},
   "outputs": [],
   "source": []
  },
  {
   "cell_type": "markdown",
   "id": "f5d7fdbc",
   "metadata": {},
   "source": [
    "#### Prepare data"
   ]
  },
  {
   "cell_type": "code",
   "execution_count": 2,
   "id": "3c7d1a8e",
   "metadata": {},
   "outputs": [],
   "source": [
    "data_path=\"expert_data/Pendulum-v1_10_-130.pkl\""
   ]
  },
  {
   "cell_type": "code",
   "execution_count": 3,
   "id": "5db90877",
   "metadata": {},
   "outputs": [
    {
     "name": "stdout",
     "output_type": "stream",
     "text": [
      "expert data loaded\n",
      "X: (2000, 3)  y: (2000, 1)\n"
     ]
    }
   ],
   "source": [
    "with open(data_path, \"rb\") as f:\n",
    "    data_good = pickle.load(f)\n",
    "print('expert data loaded')\n",
    "\n",
    "data_good=data_good[:20]\n",
    "\n",
    "good_obs=[]\n",
    "good_acts=[] \n",
    "for traj in data_good: \n",
    "    s,a,r=traj   \n",
    "    good_obs.append(s)\n",
    "    good_acts.append(a) \n",
    "\n",
    "states=np.vstack(good_obs)\n",
    "actions=np.vstack(good_acts)\n",
    "print('X:',states.shape,' y:', actions.shape)"
   ]
  },
  {
   "cell_type": "code",
   "execution_count": 4,
   "id": "c8f8aa89",
   "metadata": {},
   "outputs": [
    {
     "data": {
      "text/plain": [
       "(torch.Size([64, 3]), torch.Size([64, 1]))"
      ]
     },
     "execution_count": 4,
     "metadata": {},
     "output_type": "execute_result"
    }
   ],
   "source": [
    "data_loader = torch.utils.data.DataLoader( list(zip(states, actions)), batch_size=64, shuffle=True)\n",
    "\n",
    "batch=next(iter(data_loader))\n",
    "states,actions = batch\n",
    "states.shape,actions.shape"
   ]
  },
  {
   "cell_type": "code",
   "execution_count": 5,
   "id": "24030cfd",
   "metadata": {},
   "outputs": [
    {
     "name": "stdout",
     "output_type": "stream",
     "text": [
      "3 1\n"
     ]
    }
   ],
   "source": [
    "action_dim=actions.shape[1]\n",
    "state_dim=states.shape[1]\n",
    "print(state_dim, action_dim)"
   ]
  },
  {
   "cell_type": "markdown",
   "id": "320f61de",
   "metadata": {},
   "source": [
    "#### Train Model"
   ]
  },
  {
   "cell_type": "code",
   "execution_count": 6,
   "id": "648ecab3",
   "metadata": {},
   "outputs": [],
   "source": [
    "class MLP(nn.Module):\n",
    "    def __init__(self, input_dim, size=32):\n",
    "        super(MLP, self).__init__()\n",
    "        self.net = nn.Sequential(\n",
    "            nn.Linear(input_dim,size),\n",
    "            nn.ReLU(), \n",
    "            nn.Linear(size,size),\n",
    "            nn.ReLU() \n",
    "        )\n",
    "    def forward(self,x):\n",
    "        x = self.net(x)\n",
    "        return x\n",
    "    \n",
    "class RegNet(MLP):\n",
    "    def __init__(self, input_dim , size, action_dim):\n",
    "        super(RegNet, self).__init__(input_dim, size)\n",
    "        self.decoder = nn.Linear(size, action_dim)\n",
    "    def forward(self,x):\n",
    "        x = self.net(x)\n",
    "        x = self.decoder(x)\n",
    "        return x"
   ]
  },
  {
   "cell_type": "code",
   "execution_count": 7,
   "id": "a2ebe70f",
   "metadata": {},
   "outputs": [],
   "source": [
    "bc_pendulum = RegNet(state_dim, 32, action_dim)\n",
    "criterion = nn.MSELoss()\n",
    "learning_rate = 0.01\n",
    "optimizer = torch.optim.Adam(bc_pendulum.parameters(), lr = learning_rate)"
   ]
  },
  {
   "cell_type": "code",
   "execution_count": null,
   "id": "5ae05fd6",
   "metadata": {},
   "outputs": [],
   "source": []
  },
  {
   "cell_type": "code",
   "execution_count": 8,
   "id": "6f609023",
   "metadata": {},
   "outputs": [
    {
     "name": "stdout",
     "output_type": "stream",
     "text": [
      "Epoch 0 Loss: 0.328\n",
      "Epoch 50 Loss: 0.057\n",
      "Epoch 100 Loss: 0.051\n",
      "Epoch 150 Loss: 0.041\n",
      "Epoch 200 Loss: 0.027\n",
      "Epoch 250 Loss: 0.021\n",
      "Epoch 300 Loss: 0.021\n",
      "Epoch 350 Loss: 0.017\n",
      "Epoch 400 Loss: 0.017\n",
      "Epoch 450 Loss: 0.025\n",
      "Epoch 500 Loss: 0.021\n",
      "Epoch 550 Loss: 0.010\n",
      "Epoch 600 Loss: 0.012\n",
      "Epoch 650 Loss: 0.020\n",
      "Epoch 700 Loss: 0.019\n",
      "Epoch 750 Loss: 0.014\n",
      "Epoch 800 Loss: 0.013\n",
      "Epoch 850 Loss: 0.012\n",
      "Epoch 900 Loss: 0.012\n",
      "Epoch 950 Loss: 0.010\n",
      "Epoch 1000 Loss: 0.009\n"
     ]
    }
   ],
   "source": [
    "loss_list = []\n",
    "test_loss = []\n",
    "batch_size = 256\n",
    "n_epoch = 1_000\n",
    " \n",
    "for itr in range(0, n_epoch+1):\n",
    "    total_loss = 0\n",
    "    b=0\n",
    "    for batch_states, batch_actions in data_loader: \n",
    "        y_pred = bc_pendulum(batch_states)\n",
    "        loss   = criterion(y_pred, batch_actions) \n",
    "        total_loss += loss.item() \n",
    "        optimizer.zero_grad()\n",
    "        loss.backward()\n",
    "        optimizer.step()\n",
    "        b += 1 \n",
    "        \n",
    "        loss_list.append(loss.item())\n",
    "        \n",
    "    if itr % (n_epoch//20)==0:\n",
    "        print(f'Epoch {itr} Loss: {total_loss/b:.3f}')"
   ]
  },
  {
   "cell_type": "code",
   "execution_count": null,
   "id": "af544ea1",
   "metadata": {},
   "outputs": [],
   "source": []
  },
  {
   "cell_type": "code",
   "execution_count": 9,
   "id": "5f5dd69a",
   "metadata": {},
   "outputs": [
    {
     "data": {
      "text/plain": [
       "[<matplotlib.lines.Line2D at 0x7fea026904f0>]"
      ]
     },
     "execution_count": 9,
     "metadata": {},
     "output_type": "execute_result"
    },
    {
     "data": {
      "image/png": "[encoded data removed]",
      "text/plain": [
       "<Figure size 432x288 with 1 Axes>"
      ]
     },
     "metadata": {
      "needs_background": "light"
     },
     "output_type": "display_data"
    }
   ],
   "source": [
    "plt.plot(loss_list)"
   ]
  },
  {
   "cell_type": "code",
   "execution_count": 10,
   "id": "8ea2e222",
   "metadata": {},
   "outputs": [],
   "source": [
    "train_x=torch.tensor(states, dtype=torch.float)\n",
    "train_y=torch.tensor(actions, dtype=torch.float)"
   ]
  },
  {
   "cell_type": "code",
   "execution_count": 11,
   "id": "db03197d",
   "metadata": {},
   "outputs": [
    {
     "name": "stdout",
     "output_type": "stream",
     "text": [
      "regression score:  tensor(0.9601)\n"
     ]
    }
   ],
   "source": [
    "yhat=bc_pendulum(train_x).detach().numpy()\n",
    "score = 1 - ( (actions - yhat )**2 ).sum() /( (actions - actions.mean() )**2 ).sum()\n",
    "print('regression score: ', score)"
   ]
  },
  {
   "cell_type": "code",
   "execution_count": null,
   "id": "354194b4",
   "metadata": {},
   "outputs": [],
   "source": []
  },
  {
   "cell_type": "markdown",
   "id": "d16fc041",
   "metadata": {},
   "source": [
    "#### Inference"
   ]
  },
  {
   "cell_type": "code",
   "execution_count": 12,
   "id": "5903eb77",
   "metadata": {},
   "outputs": [],
   "source": [
    "def predict_action(state, model):\n",
    "    state=torch.tensor(state, dtype=torch.float)\n",
    "    action=model(state).detach().numpy()[0]\n",
    "    return action"
   ]
  },
  {
   "cell_type": "code",
   "execution_count": 13,
   "id": "2a963e87",
   "metadata": {},
   "outputs": [],
   "source": [
    "def play_an_episode(env_name, model, render=False, max_step=500):\n",
    "    if render:\n",
    "        env=gym.make(env_name, render_mode='human')\n",
    "    else:\n",
    "        env = gym.make(env_name)\n",
    "    total_reward=0  \n",
    "    state,info=env.reset() \n",
    "    for i in range(max_step):\n",
    "        if render: env.render()\n",
    "        action = predict_action(state, model)\n",
    "        next_state,reward,done,trunc,info=env.step([action])\n",
    "        total_reward+=reward\n",
    "        state=next_state\n",
    "        if done or trunc: break\n",
    "#         else: print('i=',i)\n",
    "    \n",
    "    env.close()\n",
    "    return total_reward"
   ]
  },
  {
   "cell_type": "code",
   "execution_count": 14,
   "id": "8fb49ccd",
   "metadata": {},
   "outputs": [],
   "source": [
    "env_name='Pendulum-v1'"
   ]
  },
  {
   "cell_type": "markdown",
   "id": "25b1ada6",
   "metadata": {},
   "source": [
    "### Single rollout with visualization"
   ]
  },
  {
   "cell_type": "code",
   "execution_count": 15,
   "id": "e81915ad",
   "metadata": {},
   "outputs": [
    {
     "name": "stdout",
     "output_type": "stream",
     "text": [
      "rewards: -128.0431779300281\n"
     ]
    }
   ],
   "source": [
    "rewards=play_an_episode(env_name, bc_pendulum, render=False) \n",
    "print('rewards:', rewards )"
   ]
  },
  {
   "cell_type": "markdown",
   "id": "74848132",
   "metadata": {},
   "source": [
    "### mean reward over rollouts"
   ]
  },
  {
   "cell_type": "code",
   "execution_count": 16,
   "id": "003edb5f",
   "metadata": {},
   "outputs": [
    {
     "name": "stdout",
     "output_type": "stream",
     "text": [
      "episode #0 reward: -122.92\n",
      "episode #1 reward: -114.93\n",
      "episode #2 reward: -118.33\n",
      "episode #3 reward: -1.39\n",
      "episode #4 reward: -126.01\n",
      "episode #5 reward: -233.87\n",
      "episode #6 reward: -117.24\n",
      "episode #7 reward: -428.95\n",
      "episode #8 reward: -239.44\n",
      "episode #9 reward: -118.16\n",
      "episode #10 reward: -123.58\n",
      "episode #11 reward: -119.91\n",
      "episode #12 reward: -229.12\n",
      "episode #13 reward: -125.04\n",
      "episode #14 reward: -123.76\n",
      "episode #15 reward: -120.93\n",
      "episode #16 reward: -117.54\n",
      "episode #17 reward: -114.46\n",
      "episode #18 reward: -123.93\n",
      "episode #19 reward: -1.37\n",
      "\n",
      " score: -141.04 +- 87.77\n"
     ]
    }
   ],
   "source": [
    "scores=[]\n",
    "n_trajectory=20\n",
    "for i in range(n_trajectory):\n",
    "    rewards=play_an_episode(env_name, bc_pendulum)\n",
    "    print(f'episode #{i} reward: {rewards:0.2f}')\n",
    "    scores.append(rewards)\n",
    "\n",
    "print(f'\\n score: {np.mean(scores):0.2f} +- {np.std(scores):0.2f}')"
   ]
  },
  {
   "cell_type": "code",
   "execution_count": null,
   "id": "94da0b99",
   "metadata": {},
   "outputs": [],
   "source": []
  },
  {
   "cell_type": "code",
   "execution_count": null,
   "id": "fdad7145",
   "metadata": {},
   "outputs": [],
   "source": []
  },
  {
   "cell_type": "code",
   "execution_count": null,
   "id": "b94bba92",
   "metadata": {},
   "outputs": [],
   "source": []
  },
  {
   "cell_type": "code",
   "execution_count": null,
   "id": "6faa6aca",
   "metadata": {},
   "outputs": [],
   "source": []
  },
  {
   "cell_type": "code",
   "execution_count": null,
   "id": "5b3f0580",
   "metadata": {},
   "outputs": [],
   "source": []
  },
  {
   "cell_type": "code",
   "execution_count": null,
   "id": "19b53f9c",
   "metadata": {},
   "outputs": [],
   "source": []
  },
  {
   "cell_type": "code",
   "execution_count": null,
   "id": "52b8af92",
   "metadata": {},
   "outputs": [],
   "source": []
  }
 ],
 "metadata": {
  "kernelspec": {
   "display_name": "Python 3 (ipykernel)",
   "language": "python",
   "name": "python3"
  },
  "language_info": {
   "codemirror_mode": {
    "name": "ipython",
    "version": 3
   },
   "file_extension": ".py",
   "mimetype": "text/x-python",
   "name": "python",
   "nbconvert_exporter": "python",
   "pygments_lexer": "ipython3",
   "version": "3.9.12"
  }
 },
 "nbformat": 4,
 "nbformat_minor": 5
}
