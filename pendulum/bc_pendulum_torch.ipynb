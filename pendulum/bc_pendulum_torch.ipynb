{
 "cells": [
  {
   "cell_type": "code",
   "execution_count": 1,
   "id": "65edbede",
   "metadata": {},
   "outputs": [],
   "source": [
    "import numpy as np \n",
    "import gym\n",
    "import torch\n",
    "import torch.nn as nn\n",
    "import torch.functional as F\n",
    "from matplotlib import pyplot as plt\n",
    "import pickle "
   ]
  },
  {
   "cell_type": "markdown",
   "id": "33ce0449",
   "metadata": {},
   "source": [
    "### BC Policy with MSE loss"
   ]
  },
  {
   "cell_type": "code",
   "execution_count": null,
   "id": "59ad2127",
   "metadata": {},
   "outputs": [],
   "source": []
  },
  {
   "cell_type": "markdown",
   "id": "f5d7fdbc",
   "metadata": {},
   "source": [
    "#### Prepare data"
   ]
  },
  {
   "cell_type": "code",
   "execution_count": 2,
   "id": "3c7d1a8e",
   "metadata": {},
   "outputs": [],
   "source": [
    "data_path=\"expert_data/Pendulum-v1_10_-130.pkl\""
   ]
  },
  {
   "cell_type": "code",
   "execution_count": 5,
   "id": "5db90877",
   "metadata": {},
   "outputs": [
    {
     "name": "stdout",
     "output_type": "stream",
     "text": [
      "expert data loaded\n",
      "X: (2000, 3)  y: (2000, 1)\n"
     ]
    }
   ],
   "source": [
    "with open(data_path, \"rb\") as f:\n",
    "    data_good = pickle.load(f)\n",
    "print('expert data loaded')\n",
    "\n",
    "data_good=data_good[:20]\n",
    "\n",
    "good_obs=[]\n",
    "good_acts=[] \n",
    "for traj in data_good: \n",
    "    s,a,r=traj   \n",
    "    good_obs.append(s)\n",
    "    good_acts.append(a) \n",
    "\n",
    "states=np.vstack(good_obs)\n",
    "actions=np.vstack(good_acts)\n",
    "print('X:',states.shape,' y:', actions.shape)"
   ]
  },
  {
   "cell_type": "code",
   "execution_count": 6,
   "id": "c8f8aa89",
   "metadata": {},
   "outputs": [
    {
     "data": {
      "text/plain": [
       "(torch.Size([64, 3]), torch.Size([64, 1]))"
      ]
     },
     "execution_count": 6,
     "metadata": {},
     "output_type": "execute_result"
    }
   ],
   "source": [
    "data_loader = torch.utils.data.DataLoader( list(zip(states, actions)), batch_size=64, shuffle=True)\n",
    "\n",
    "batch=next(iter(data_loader))\n",
    "states,actions = batch\n",
    "states.shape,actions.shape"
   ]
  },
  {
   "cell_type": "code",
   "execution_count": 7,
   "id": "24030cfd",
   "metadata": {},
   "outputs": [
    {
     "name": "stdout",
     "output_type": "stream",
     "text": [
      "3 1\n"
     ]
    }
   ],
   "source": [
    "action_dim=actions.shape[1]\n",
    "state_dim=states.shape[1]\n",
    "print(state_dim, action_dim)"
   ]
  },
  {
   "cell_type": "markdown",
   "id": "320f61de",
   "metadata": {},
   "source": [
    "#### Train Model"
   ]
  },
  {
   "cell_type": "code",
   "execution_count": 8,
   "id": "648ecab3",
   "metadata": {},
   "outputs": [],
   "source": [
    "class MLP(nn.Module):\n",
    "    def __init__(self, input_dim, size=32):\n",
    "        super(MLP, self).__init__()\n",
    "        self.net = nn.Sequential(\n",
    "            nn.Linear(input_dim,32),\n",
    "            nn.ReLU(), \n",
    "            nn.Linear(32,64),\n",
    "            nn.ReLU(), \n",
    "            nn.Linear(64,32),\n",
    "            nn.ReLU(),  \n",
    "            nn.Linear(32,size),\n",
    "        )\n",
    "    def forward(self,x):\n",
    "        x = self.net(x)\n",
    "        return x\n",
    "    \n",
    "class RegNet(MLP):\n",
    "    def __init__(self, input_dim , size, action_dim):\n",
    "        super(RegNet, self).__init__(input_dim, size)\n",
    "        self.decoder = nn.Linear(size, action_dim)\n",
    "    def forward(self,x):\n",
    "        x = self.net(x)\n",
    "        x = self.decoder(x)\n",
    "        return x"
   ]
  },
  {
   "cell_type": "code",
   "execution_count": 9,
   "id": "a2ebe70f",
   "metadata": {},
   "outputs": [],
   "source": [
    "bc_pendulum = RegNet(state_dim, 32, action_dim)\n",
    "criterion = nn.MSELoss()\n",
    "learning_rate = 0.01\n",
    "optimizer = torch.optim.Adam(bc_pendulum.parameters(), lr = learning_rate)"
   ]
  },
  {
   "cell_type": "code",
   "execution_count": null,
   "id": "5ae05fd6",
   "metadata": {},
   "outputs": [],
   "source": []
  },
  {
   "cell_type": "code",
   "execution_count": 10,
   "id": "6f609023",
   "metadata": {},
   "outputs": [
    {
     "name": "stdout",
     "output_type": "stream",
     "text": [
      "Epoch 0 Loss: 0.350\n",
      "Epoch 12 Loss: 0.091\n",
      "Epoch 24 Loss: 0.072\n",
      "Epoch 36 Loss: 0.064\n",
      "Epoch 48 Loss: 0.069\n",
      "Epoch 60 Loss: 0.060\n",
      "Epoch 72 Loss: 0.058\n",
      "Epoch 84 Loss: 0.053\n",
      "Epoch 96 Loss: 0.036\n",
      "Epoch 108 Loss: 0.074\n",
      "Epoch 120 Loss: 0.051\n",
      "Epoch 132 Loss: 0.060\n",
      "Epoch 144 Loss: 0.043\n",
      "Epoch 156 Loss: 0.035\n",
      "Epoch 168 Loss: 0.037\n",
      "Epoch 180 Loss: 0.039\n",
      "Epoch 192 Loss: 0.030\n",
      "Epoch 204 Loss: 0.036\n",
      "Epoch 216 Loss: 0.031\n",
      "Epoch 228 Loss: 0.030\n",
      "Epoch 240 Loss: 0.030\n"
     ]
    }
   ],
   "source": [
    "loss_list = []\n",
    "test_loss = []\n",
    "batch_size = 256\n",
    "n_epoch = 250\n",
    " \n",
    "for itr in range(0, n_epoch+1):\n",
    "    total_loss = 0\n",
    "    b=0\n",
    "    for batch_states, batch_actions in data_loader: \n",
    "        y_pred = bc_pendulum(batch_states)\n",
    "        loss   = criterion(y_pred, batch_actions) \n",
    "        total_loss += loss.item() \n",
    "        optimizer.zero_grad()\n",
    "        loss.backward()\n",
    "        optimizer.step()\n",
    "        b += 1 \n",
    "        \n",
    "        loss_list.append(loss.item())\n",
    "        \n",
    "    if itr % (n_epoch//20)==0:\n",
    "        print(f'Epoch {itr} Loss: {total_loss/b:.3f}')"
   ]
  },
  {
   "cell_type": "code",
   "execution_count": null,
   "id": "af544ea1",
   "metadata": {},
   "outputs": [],
   "source": []
  },
  {
   "cell_type": "code",
   "execution_count": 11,
   "id": "5f5dd69a",
   "metadata": {},
   "outputs": [
    {
     "data": {
      "text/plain": [
       "[<matplotlib.lines.Line2D at 0x7ffa28528d90>]"
      ]
     },
     "execution_count": 11,
     "metadata": {},
     "output_type": "execute_result"
    },
    {
     "data": {
      "image/png": "[encoded data removed]",
      "text/plain": [
       "<Figure size 432x288 with 1 Axes>"
      ]
     },
     "metadata": {
      "needs_background": "light"
     },
     "output_type": "display_data"
    }
   ],
   "source": [
    "plt.plot(loss_list)"
   ]
  },
  {
   "cell_type": "code",
   "execution_count": 12,
   "id": "8ea2e222",
   "metadata": {},
   "outputs": [
    {
     "name": "stderr",
     "output_type": "stream",
     "text": [
      "/tmp/ipykernel_81523/2239742359.py:1: UserWarning: To copy construct from a tensor, it is recommended to use sourceTensor.clone().detach() or sourceTensor.clone().detach().requires_grad_(True), rather than torch.tensor(sourceTensor).\n",
      "  train_x=torch.tensor(states, dtype=torch.float)\n",
      "/tmp/ipykernel_81523/2239742359.py:2: UserWarning: To copy construct from a tensor, it is recommended to use sourceTensor.clone().detach() or sourceTensor.clone().detach().requires_grad_(True), rather than torch.tensor(sourceTensor).\n",
      "  train_y=torch.tensor(actions, dtype=torch.float)\n"
     ]
    }
   ],
   "source": [
    "train_x=torch.tensor(states, dtype=torch.float)\n",
    "train_y=torch.tensor(actions, dtype=torch.float)"
   ]
  },
  {
   "cell_type": "code",
   "execution_count": 13,
   "id": "db03197d",
   "metadata": {},
   "outputs": [
    {
     "name": "stdout",
     "output_type": "stream",
     "text": [
      "regression score:  tensor(0.9619)\n"
     ]
    }
   ],
   "source": [
    "yhat=bc_pendulum(train_x).detach().numpy()\n",
    "score = 1 - ( (actions - yhat )**2 ).sum() /( (actions - actions.mean() )**2 ).sum()\n",
    "print('regression score: ', score)"
   ]
  },
  {
   "cell_type": "code",
   "execution_count": null,
   "id": "354194b4",
   "metadata": {},
   "outputs": [],
   "source": []
  },
  {
   "cell_type": "markdown",
   "id": "d16fc041",
   "metadata": {},
   "source": [
    "#### Inference"
   ]
  },
  {
   "cell_type": "code",
   "execution_count": 14,
   "id": "5903eb77",
   "metadata": {},
   "outputs": [],
   "source": [
    "def predict_action(state, model):\n",
    "    state=torch.tensor(state, dtype=torch.float)\n",
    "    action=model(state).detach().numpy()[0]\n",
    "    return action"
   ]
  },
  {
   "cell_type": "code",
   "execution_count": 15,
   "id": "2a963e87",
   "metadata": {},
   "outputs": [],
   "source": [
    "def play_an_episode(env_name, model, render=False, max_step=500):\n",
    "    if render:\n",
    "        env=gym.make(env_name, render_mode='human')\n",
    "    else:\n",
    "        env = gym.make(env_name)\n",
    "    total_reward=0  \n",
    "    state,info=env.reset() \n",
    "    for i in range(max_step):\n",
    "        if render: env.render()\n",
    "        action = predict_action(state, model)\n",
    "        next_state,reward,done,trunc,info=env.step([action])\n",
    "        total_reward+=reward\n",
    "        state=next_state\n",
    "        if done or trunc: break\n",
    "#         else: print('i=',i)\n",
    "    \n",
    "    env.close()\n",
    "    return total_reward"
   ]
  },
  {
   "cell_type": "code",
   "execution_count": 16,
   "id": "8fb49ccd",
   "metadata": {},
   "outputs": [],
   "source": [
    "env_name='Pendulum-v1'"
   ]
  },
  {
   "cell_type": "code",
   "execution_count": 15,
   "id": "e81915ad",
   "metadata": {},
   "outputs": [
    {
     "name": "stdout",
     "output_type": "stream",
     "text": [
      "rewards: -121.86463913841688\n"
     ]
    }
   ],
   "source": [
    "rewards=play_an_episode(env_name, bc_pendulum, render=True) \n",
    "print('rewards:', rewards )"
   ]
  },
  {
   "cell_type": "code",
   "execution_count": 17,
   "id": "003edb5f",
   "metadata": {},
   "outputs": [
    {
     "name": "stdout",
     "output_type": "stream",
     "text": [
      "episode #0 reward: -124.49\n",
      "episode #1 reward: -125.49\n",
      "episode #2 reward: -225.33\n",
      "episode #3 reward: -438.18\n",
      "episode #4 reward: -121.89\n",
      "episode #5 reward: -124.33\n",
      "episode #6 reward: -124.65\n",
      "episode #7 reward: -119.62\n",
      "episode #8 reward: -117.93\n",
      "episode #9 reward: -119.83\n",
      "episode #10 reward: -1.24\n",
      "episode #11 reward: -127.92\n",
      "episode #12 reward: -240.42\n",
      "episode #13 reward: -116.44\n",
      "episode #14 reward: -2.52\n",
      "episode #15 reward: -121.07\n",
      "episode #16 reward: -245.47\n",
      "episode #17 reward: -238.86\n",
      "episode #18 reward: -121.63\n",
      "episode #19 reward: -240.35\n",
      "mean score: -154.88 std: 93.52\n"
     ]
    }
   ],
   "source": [
    "scores=[]\n",
    "n_trajectory=20\n",
    "for i in range(n_trajectory):\n",
    "    rewards=play_an_episode(env_name, bc_pendulum)\n",
    "    print(f'episode #{i} reward: {rewards:0.2f}')\n",
    "    scores.append(rewards)\n",
    "\n",
    "print(f'mean score: {np.mean(scores):0.2f} std: {np.std(scores):0.2f}')"
   ]
  },
  {
   "cell_type": "code",
   "execution_count": null,
   "id": "94da0b99",
   "metadata": {},
   "outputs": [],
   "source": []
  },
  {
   "cell_type": "code",
   "execution_count": null,
   "id": "fdad7145",
   "metadata": {},
   "outputs": [],
   "source": []
  },
  {
   "cell_type": "code",
   "execution_count": null,
   "id": "b94bba92",
   "metadata": {},
   "outputs": [],
   "source": []
  },
  {
   "cell_type": "code",
   "execution_count": null,
   "id": "6faa6aca",
   "metadata": {},
   "outputs": [],
   "source": []
  },
  {
   "cell_type": "code",
   "execution_count": null,
   "id": "5b3f0580",
   "metadata": {},
   "outputs": [],
   "source": []
  },
  {
   "cell_type": "code",
   "execution_count": null,
   "id": "19b53f9c",
   "metadata": {},
   "outputs": [],
   "source": []
  },
  {
   "cell_type": "code",
   "execution_count": null,
   "id": "52b8af92",
   "metadata": {},
   "outputs": [],
   "source": []
  }
 ],
 "metadata": {
  "kernelspec": {
   "display_name": "Python 3 (ipykernel)",
   "language": "python",
   "name": "python3"
  },
  "language_info": {
   "codemirror_mode": {
    "name": "ipython",
    "version": 3
   },
   "file_extension": ".py",
   "mimetype": "text/x-python",
   "name": "python",
   "nbconvert_exporter": "python",
   "pygments_lexer": "ipython3",
   "version": "3.9.12"
  }
 },
 "nbformat": 4,
 "nbformat_minor": 5
}
