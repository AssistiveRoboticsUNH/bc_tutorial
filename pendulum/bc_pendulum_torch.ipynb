{
 "cells": [
  {
   "cell_type": "code",
   "execution_count": 2,
   "id": "fdf625d3",
   "metadata": {},
   "outputs": [],
   "source": [
    "# To Run in Colab: uncomment and run the following\n",
    "# !git clone https://github.com/AssistiveRoboticsUNH/bc_tutorial.git\n",
    "# !pip install gym==0.26.0"
   ]
  },
  {
   "cell_type": "code",
   "execution_count": 3,
   "id": "65edbede",
   "metadata": {},
   "outputs": [],
   "source": [
    "import warnings\n",
    "warnings.filterwarnings('ignore')\n",
    "\n",
    "import numpy as np \n",
    "import gym\n",
    "import torch\n",
    "import torch.nn as nn\n",
    "import torch.functional as F\n",
    "from matplotlib import pyplot as plt\n",
    "import pickle \n",
    "import imageio "
   ]
  },
  {
   "cell_type": "markdown",
   "id": "33ce0449",
   "metadata": {},
   "source": [
    "### BC Policy with MSE loss"
   ]
  },
  {
   "cell_type": "markdown",
   "id": "f5d7fdbc",
   "metadata": {},
   "source": [
    "#### Prepare data"
   ]
  },
  {
   "cell_type": "code",
   "execution_count": 4,
   "id": "3c7d1a8e",
   "metadata": {},
   "outputs": [],
   "source": [
    "# data_path=\"expert_data/Pendulum-v1_10_-130.pkl\"\n",
    "\n",
    "data_path = \"/content/bc_tutorial/pendulum/expert_data/Pendulum-v1_10_-130.pkl\""
   ]
  },
  {
   "cell_type": "code",
   "execution_count": 5,
   "id": "5db90877",
   "metadata": {},
   "outputs": [
    {
     "name": "stdout",
     "output_type": "stream",
     "text": [
      "expert data loaded\n",
      "X: (2000, 3)  y: (2000, 1)\n"
     ]
    }
   ],
   "source": [
    "with open(data_path, \"rb\") as f:\n",
    "    data_good = pickle.load(f)\n",
    "print('expert data loaded')\n",
    "\n",
    "data_good=data_good[:20]\n",
    "\n",
    "good_obs=[]\n",
    "good_acts=[] \n",
    "for traj in data_good: \n",
    "    s,a,r=traj   \n",
    "    good_obs.append(s)\n",
    "    good_acts.append(a) \n",
    "\n",
    "states=np.vstack(good_obs)\n",
    "actions=np.vstack(good_acts)\n",
    "print('X:',states.shape,' y:', actions.shape)"
   ]
  },
  {
   "cell_type": "code",
   "execution_count": 6,
   "id": "c8f8aa89",
   "metadata": {},
   "outputs": [
    {
     "data": {
      "text/plain": [
       "(torch.Size([64, 3]), torch.Size([64, 1]))"
      ]
     },
     "execution_count": 6,
     "metadata": {},
     "output_type": "execute_result"
    }
   ],
   "source": [
    "data_loader = torch.utils.data.DataLoader( list(zip(states, actions)), batch_size=64, shuffle=True)\n",
    "\n",
    "batch=next(iter(data_loader))\n",
    "states,actions = batch\n",
    "states.shape,actions.shape"
   ]
  },
  {
   "cell_type": "code",
   "execution_count": 7,
   "id": "24030cfd",
   "metadata": {},
   "outputs": [
    {
     "name": "stdout",
     "output_type": "stream",
     "text": [
      "3 1\n"
     ]
    }
   ],
   "source": [
    "action_dim=actions.shape[1]\n",
    "state_dim=states.shape[1]\n",
    "print(state_dim, action_dim)"
   ]
  },
  {
   "cell_type": "markdown",
   "id": "320f61de",
   "metadata": {},
   "source": [
    "#### Train Model"
   ]
  },
  {
   "cell_type": "code",
   "execution_count": 8,
   "id": "648ecab3",
   "metadata": {},
   "outputs": [],
   "source": [
    "class MLP(nn.Module):\n",
    "    def __init__(self, input_dim, size=32):\n",
    "        super(MLP, self).__init__()\n",
    "        self.net = nn.Sequential(\n",
    "            nn.Linear(input_dim,size),\n",
    "            nn.ReLU(), \n",
    "            nn.Linear(size,size),\n",
    "            nn.ReLU() \n",
    "        )\n",
    "    def forward(self,x):\n",
    "        x = self.net(x)\n",
    "        return x\n",
    "    \n",
    "class RegNet(MLP):\n",
    "    def __init__(self, input_dim , size, action_dim):\n",
    "        super(RegNet, self).__init__(input_dim, size)\n",
    "        self.decoder = nn.Linear(size, action_dim)\n",
    "    def forward(self,x):\n",
    "        x = self.net(x)\n",
    "        x = self.decoder(x)\n",
    "        return x"
   ]
  },
  {
   "cell_type": "code",
   "execution_count": 9,
   "id": "a2ebe70f",
   "metadata": {},
   "outputs": [],
   "source": [
    "model = RegNet(state_dim, 32, action_dim)\n",
    "criterion = nn.MSELoss()\n",
    "learning_rate = 0.01\n",
    "optimizer = torch.optim.Adam(model.parameters(), lr = learning_rate)"
   ]
  },
  {
   "cell_type": "code",
   "execution_count": null,
   "id": "5ae05fd6",
   "metadata": {},
   "outputs": [],
   "source": []
  },
  {
   "cell_type": "code",
   "execution_count": 10,
   "id": "6f609023",
   "metadata": {},
   "outputs": [
    {
     "name": "stdout",
     "output_type": "stream",
     "text": [
      "Epoch 0 Loss: 0.327\n",
      "Epoch 50 Loss: 0.069\n",
      "Epoch 100 Loss: 0.055\n",
      "Epoch 150 Loss: 0.031\n",
      "Epoch 200 Loss: 0.025\n",
      "Epoch 250 Loss: 0.017\n",
      "Epoch 300 Loss: 0.018\n",
      "Epoch 350 Loss: 0.017\n",
      "Epoch 400 Loss: 0.018\n",
      "Epoch 450 Loss: 0.017\n",
      "Epoch 500 Loss: 0.014\n",
      "Epoch 550 Loss: 0.015\n",
      "Epoch 600 Loss: 0.014\n",
      "Epoch 650 Loss: 0.013\n",
      "Epoch 700 Loss: 0.012\n",
      "Epoch 750 Loss: 0.015\n",
      "Epoch 800 Loss: 0.023\n",
      "Epoch 850 Loss: 0.011\n",
      "Epoch 900 Loss: 0.015\n",
      "Epoch 950 Loss: 0.013\n",
      "Epoch 1000 Loss: 0.017\n"
     ]
    }
   ],
   "source": [
    "loss_list = []\n",
    "test_loss = []\n",
    "batch_size = 256\n",
    "n_epoch = 1_000\n",
    " \n",
    "for itr in range(0, n_epoch+1):\n",
    "    total_loss = 0\n",
    "    b=0\n",
    "    for batch_states, batch_actions in data_loader: \n",
    "        y_pred = model(batch_states)\n",
    "        loss   = criterion(y_pred, batch_actions) \n",
    "        total_loss += loss.item() \n",
    "        optimizer.zero_grad()\n",
    "        loss.backward()\n",
    "        optimizer.step()\n",
    "        b += 1 \n",
    "        \n",
    "        loss_list.append(loss.item())\n",
    "        \n",
    "    if itr % (n_epoch//20)==0:\n",
    "        print(f'Epoch {itr} Loss: {total_loss/b:.3f}')"
   ]
  },
  {
   "cell_type": "code",
   "execution_count": null,
   "id": "af544ea1",
   "metadata": {},
   "outputs": [],
   "source": []
  },
  {
   "cell_type": "code",
   "execution_count": 11,
   "id": "5f5dd69a",
   "metadata": {},
   "outputs": [
    {
     "data": {
      "text/plain": [
       "[<matplotlib.lines.Line2D at 0x769796feaf10>]"
      ]
     },
     "execution_count": 11,
     "metadata": {},
     "output_type": "execute_result"
    },
    {
     "data": {
      "image/png": "[encoded data removed]",
      "text/plain": [
       "<Figure size 432x288 with 1 Axes>"
      ]
     },
     "metadata": {
      "needs_background": "light"
     },
     "output_type": "display_data"
    }
   ],
   "source": [
    "plt.plot(loss_list)"
   ]
  },
  {
   "cell_type": "code",
   "execution_count": 12,
   "id": "8ea2e222",
   "metadata": {},
   "outputs": [],
   "source": [
    "train_x=torch.tensor(states, dtype=torch.float)\n",
    "train_y=torch.tensor(actions, dtype=torch.float)"
   ]
  },
  {
   "cell_type": "code",
   "execution_count": 13,
   "id": "db03197d",
   "metadata": {},
   "outputs": [
    {
     "name": "stdout",
     "output_type": "stream",
     "text": [
      "regression score:  tensor(0.9850)\n"
     ]
    }
   ],
   "source": [
    "yhat=model(train_x).detach().numpy()\n",
    "score = 1 - ( (actions - yhat )**2 ).sum() /( (actions - actions.mean() )**2 ).sum()\n",
    "print('regression score: ', score)"
   ]
  },
  {
   "cell_type": "code",
   "execution_count": null,
   "id": "354194b4",
   "metadata": {},
   "outputs": [],
   "source": []
  },
  {
   "cell_type": "markdown",
   "id": "d16fc041",
   "metadata": {},
   "source": [
    "#### Rollout"
   ]
  },
  {
   "cell_type": "code",
   "execution_count": 14,
   "id": "9392d4c1",
   "metadata": {},
   "outputs": [],
   "source": [
    "env_name='Pendulum-v1'"
   ]
  },
  {
   "cell_type": "code",
   "execution_count": 15,
   "id": "76ce6074",
   "metadata": {},
   "outputs": [],
   "source": [
    "def play_an_episode(env_name, model, video_path=None, max_steps=1000):\n",
    "    video_writer=None \n",
    "    if video_path is not None:\n",
    "        print(f'Saving video to {video_path}')\n",
    "        video_writer = imageio.get_writer(video_path, fps=20)\n",
    "        env=gym.make(env_name, render_mode='rgb_array')\n",
    "    else:\n",
    "        env=gym.make(env_name)\n",
    "\n",
    "    obs,_=env.reset()\n",
    "    rewards=0\n",
    "    step=0\n",
    "    for _ in range(max_steps):\n",
    "        step+=1\n",
    "        state=torch.tensor(obs, dtype=torch.float)\n",
    "        action=model(state).detach().numpy() \n",
    "        obs, reward, done, trunc,_ = env.step(action)\n",
    "\n",
    "        if video_path is not None:\n",
    "            image=env.render()\n",
    "            video_writer.append_data(image)\n",
    "\n",
    "        rewards+=reward\n",
    "        if done or trunc:\n",
    "            break\n",
    "\n",
    "    if video_path is not None:\n",
    "        video_writer.close()\n",
    "    return {'reward':rewards, 'step':step-1}"
   ]
  },
  {
   "cell_type": "code",
   "execution_count": 16,
   "id": "394642a4",
   "metadata": {},
   "outputs": [
    {
     "name": "stdout",
     "output_type": "stream",
     "text": [
      "episode #0 reward: -1.16\n",
      "episode #1 reward: -120.87\n",
      "episode #2 reward: -344.24\n",
      "episode #3 reward: -125.88\n",
      "episode #4 reward: -123.92\n",
      "episode #5 reward: -123.50\n",
      "episode #6 reward: -125.25\n",
      "episode #7 reward: -125.31\n",
      "episode #8 reward: -124.21\n",
      "episode #9 reward: -397.12\n",
      "episode #10 reward: -120.29\n",
      "episode #11 reward: -346.94\n",
      "episode #12 reward: -245.32\n",
      "episode #13 reward: -121.39\n",
      "episode #14 reward: -124.61\n",
      "episode #15 reward: -3.04\n",
      "episode #16 reward: -117.35\n",
      "episode #17 reward: -119.65\n",
      "episode #18 reward: -1.08\n",
      "episode #19 reward: -121.84\n",
      "\n",
      " score: -146.65 +- 105.40\n"
     ]
    }
   ],
   "source": [
    "scores=[]\n",
    "n_trajectory=20\n",
    "for i in range(n_trajectory):\n",
    "    stats=play_an_episode(env_name, model)\n",
    "    rewards=stats['reward']\n",
    "    print(f'episode #{i} reward: {rewards:0.2f}')\n",
    "    scores.append(rewards)\n",
    "\n",
    "print(f'\\n score: {np.mean(scores):0.2f} +- {np.std(scores):0.2f}')"
   ]
  },
  {
   "cell_type": "code",
   "execution_count": null,
   "id": "7bf41bdb",
   "metadata": {},
   "outputs": [],
   "source": [
    " "
   ]
  },
  {
   "cell_type": "markdown",
   "id": "3154b03f",
   "metadata": {},
   "source": [
    "### Let's render and save a video using the learned policy."
   ]
  },
  {
   "cell_type": "code",
   "execution_count": 17,
   "id": "35f1bb5c",
   "metadata": {},
   "outputs": [
    {
     "name": "stdout",
     "output_type": "stream",
     "text": [
      "Saving video to bc_pendulum.mp4\n"
     ]
    },
    {
     "name": "stderr",
     "output_type": "stream",
     "text": [
      "IMAGEIO FFMPEG_WRITER WARNING: input image is not divisible by macro_block_size=16, resizing from (500, 500) to (512, 512) to ensure video compatibility with most codecs and players. To prevent resizing, make your input image divisible by the macro_block_size or set the macro_block_size to 1 (risking incompatibility).\n",
      "[swscaler @ 0x5d0aa00] Warning: data is not aligned! This can lead to a speed loss\n"
     ]
    },
    {
     "data": {
      "text/plain": [
       "{'reward': -239.88487418276452, 'step': 199}"
      ]
     },
     "execution_count": 17,
     "metadata": {},
     "output_type": "execute_result"
    }
   ],
   "source": [
    "stats=play_an_episode(env_name, model, video_path='bc_pendulum.mp4')\n",
    "stats "
   ]
  },
  {
   "cell_type": "code",
   "execution_count": 20,
   "id": "c9564345",
   "metadata": {},
   "outputs": [],
   "source": [
    "# from IPython.display import Video\n",
    "# Video('bc_pendulum.mp4' )"
   ]
  },
  {
   "cell_type": "code",
   "execution_count": 19,
   "id": "344c0e7e",
   "metadata": {},
   "outputs": [
    {
     "data": {
      "text/html": [
       "\n",
       "<video width=400 controls>\n",
       "      <source src=\"data:video/mp4;base64,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\" type=\"video/mp4\">\n",
       "</video>\n"
      ],
      "text/plain": [
       "<IPython.core.display.HTML object>"
      ]
     },
     "execution_count": 19,
     "metadata": {},
     "output_type": "execute_result"
    }
   ],
   "source": [
    "from IPython.display import HTML\n",
    "from base64 import b64encode\n",
    "\n",
    "video_path = 'bc_pendulum.mp4'\n",
    "\n",
    "mp4 = open(video_path, \"rb\").read()\n",
    "data_url = \"data:video/mp4;base64,\" + b64encode(mp4).decode()\n",
    "HTML(f\"\"\"\n",
    "<video width=400 controls>\n",
    "      <source src=\"{data_url}\" type=\"video/mp4\">\n",
    "</video>\n",
    "\"\"\")"
   ]
  },
  {
   "cell_type": "code",
   "execution_count": null,
   "id": "19b53f9c",
   "metadata": {},
   "outputs": [],
   "source": []
  },
  {
   "cell_type": "code",
   "execution_count": null,
   "id": "52b8af92",
   "metadata": {},
   "outputs": [],
   "source": []
  }
 ],
 "metadata": {
  "kernelspec": {
   "display_name": "Python 3",
   "language": "python",
   "name": "python3"
  },
  "language_info": {
   "codemirror_mode": {
    "name": "ipython",
    "version": 3
   },
   "file_extension": ".py",
   "mimetype": "text/x-python",
   "name": "python",
   "nbconvert_exporter": "python",
   "pygments_lexer": "ipython3",
   "version": "3.9.12"
  }
 },
 "nbformat": 4,
 "nbformat_minor": 5
}
