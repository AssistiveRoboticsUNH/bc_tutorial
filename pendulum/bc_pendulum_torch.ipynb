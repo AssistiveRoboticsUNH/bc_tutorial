{
 "cells": [
  {
   "cell_type": "code",
   "execution_count": 1,
   "id": "65edbede",
   "metadata": {},
   "outputs": [],
   "source": [
    "import warnings\n",
    "warnings.filterwarnings('ignore')\n",
    "\n",
    "import numpy as np \n",
    "import gym\n",
    "import torch\n",
    "import torch.nn as nn\n",
    "import torch.functional as F\n",
    "from matplotlib import pyplot as plt\n",
    "import pickle \n",
    "import imageio "
   ]
  },
  {
   "cell_type": "markdown",
   "id": "33ce0449",
   "metadata": {},
   "source": [
    "### BC Policy with MSE loss"
   ]
  },
  {
   "cell_type": "code",
   "execution_count": null,
   "id": "59ad2127",
   "metadata": {},
   "outputs": [],
   "source": []
  },
  {
   "cell_type": "markdown",
   "id": "f5d7fdbc",
   "metadata": {},
   "source": [
    "#### Prepare data"
   ]
  },
  {
   "cell_type": "code",
   "execution_count": 2,
   "id": "3c7d1a8e",
   "metadata": {},
   "outputs": [],
   "source": [
    "data_path=\"expert_data/Pendulum-v1_10_-130.pkl\""
   ]
  },
  {
   "cell_type": "code",
   "execution_count": 3,
   "id": "5db90877",
   "metadata": {},
   "outputs": [
    {
     "name": "stdout",
     "output_type": "stream",
     "text": [
      "expert data loaded\n",
      "X: (2000, 3)  y: (2000, 1)\n"
     ]
    }
   ],
   "source": [
    "with open(data_path, \"rb\") as f:\n",
    "    data_good = pickle.load(f)\n",
    "print('expert data loaded')\n",
    "\n",
    "data_good=data_good[:20]\n",
    "\n",
    "good_obs=[]\n",
    "good_acts=[] \n",
    "for traj in data_good: \n",
    "    s,a,r=traj   \n",
    "    good_obs.append(s)\n",
    "    good_acts.append(a) \n",
    "\n",
    "states=np.vstack(good_obs)\n",
    "actions=np.vstack(good_acts)\n",
    "print('X:',states.shape,' y:', actions.shape)"
   ]
  },
  {
   "cell_type": "code",
   "execution_count": 4,
   "id": "c8f8aa89",
   "metadata": {},
   "outputs": [
    {
     "data": {
      "text/plain": [
       "(torch.Size([64, 3]), torch.Size([64, 1]))"
      ]
     },
     "execution_count": 4,
     "metadata": {},
     "output_type": "execute_result"
    }
   ],
   "source": [
    "data_loader = torch.utils.data.DataLoader( list(zip(states, actions)), batch_size=64, shuffle=True)\n",
    "\n",
    "batch=next(iter(data_loader))\n",
    "states,actions = batch\n",
    "states.shape,actions.shape"
   ]
  },
  {
   "cell_type": "code",
   "execution_count": 5,
   "id": "24030cfd",
   "metadata": {},
   "outputs": [
    {
     "name": "stdout",
     "output_type": "stream",
     "text": [
      "3 1\n"
     ]
    }
   ],
   "source": [
    "action_dim=actions.shape[1]\n",
    "state_dim=states.shape[1]\n",
    "print(state_dim, action_dim)"
   ]
  },
  {
   "cell_type": "markdown",
   "id": "320f61de",
   "metadata": {},
   "source": [
    "#### Train Model"
   ]
  },
  {
   "cell_type": "code",
   "execution_count": 6,
   "id": "648ecab3",
   "metadata": {},
   "outputs": [],
   "source": [
    "class MLP(nn.Module):\n",
    "    def __init__(self, input_dim, size=32):\n",
    "        super(MLP, self).__init__()\n",
    "        self.net = nn.Sequential(\n",
    "            nn.Linear(input_dim,size),\n",
    "            nn.ReLU(), \n",
    "            nn.Linear(size,size),\n",
    "            nn.ReLU() \n",
    "        )\n",
    "    def forward(self,x):\n",
    "        x = self.net(x)\n",
    "        return x\n",
    "    \n",
    "class RegNet(MLP):\n",
    "    def __init__(self, input_dim , size, action_dim):\n",
    "        super(RegNet, self).__init__(input_dim, size)\n",
    "        self.decoder = nn.Linear(size, action_dim)\n",
    "    def forward(self,x):\n",
    "        x = self.net(x)\n",
    "        x = self.decoder(x)\n",
    "        return x"
   ]
  },
  {
   "cell_type": "code",
   "execution_count": 7,
   "id": "a2ebe70f",
   "metadata": {},
   "outputs": [],
   "source": [
    "model = RegNet(state_dim, 32, action_dim)\n",
    "criterion = nn.MSELoss()\n",
    "learning_rate = 0.01\n",
    "optimizer = torch.optim.Adam(model.parameters(), lr = learning_rate)"
   ]
  },
  {
   "cell_type": "code",
   "execution_count": null,
   "id": "5ae05fd6",
   "metadata": {},
   "outputs": [],
   "source": []
  },
  {
   "cell_type": "code",
   "execution_count": 8,
   "id": "6f609023",
   "metadata": {},
   "outputs": [
    {
     "name": "stdout",
     "output_type": "stream",
     "text": [
      "Epoch 0 Loss: 0.328\n",
      "Epoch 50 Loss: 0.075\n",
      "Epoch 100 Loss: 0.040\n",
      "Epoch 150 Loss: 0.037\n",
      "Epoch 200 Loss: 0.027\n",
      "Epoch 250 Loss: 0.028\n",
      "Epoch 300 Loss: 0.017\n",
      "Epoch 350 Loss: 0.024\n",
      "Epoch 400 Loss: 0.021\n",
      "Epoch 450 Loss: 0.023\n",
      "Epoch 500 Loss: 0.015\n",
      "Epoch 550 Loss: 0.013\n",
      "Epoch 600 Loss: 0.015\n",
      "Epoch 650 Loss: 0.015\n",
      "Epoch 700 Loss: 0.019\n",
      "Epoch 750 Loss: 0.011\n",
      "Epoch 800 Loss: 0.010\n",
      "Epoch 850 Loss: 0.010\n",
      "Epoch 900 Loss: 0.016\n",
      "Epoch 950 Loss: 0.012\n",
      "Epoch 1000 Loss: 0.008\n"
     ]
    }
   ],
   "source": [
    "loss_list = []\n",
    "test_loss = []\n",
    "batch_size = 256\n",
    "n_epoch = 1_000\n",
    " \n",
    "for itr in range(0, n_epoch+1):\n",
    "    total_loss = 0\n",
    "    b=0\n",
    "    for batch_states, batch_actions in data_loader: \n",
    "        y_pred = model(batch_states)\n",
    "        loss   = criterion(y_pred, batch_actions) \n",
    "        total_loss += loss.item() \n",
    "        optimizer.zero_grad()\n",
    "        loss.backward()\n",
    "        optimizer.step()\n",
    "        b += 1 \n",
    "        \n",
    "        loss_list.append(loss.item())\n",
    "        \n",
    "    if itr % (n_epoch//20)==0:\n",
    "        print(f'Epoch {itr} Loss: {total_loss/b:.3f}')"
   ]
  },
  {
   "cell_type": "code",
   "execution_count": null,
   "id": "af544ea1",
   "metadata": {},
   "outputs": [],
   "source": []
  },
  {
   "cell_type": "code",
   "execution_count": 9,
   "id": "5f5dd69a",
   "metadata": {},
   "outputs": [
    {
     "data": {
      "text/plain": [
       "[<matplotlib.lines.Line2D at 0x7a4eaa707a30>]"
      ]
     },
     "execution_count": 9,
     "metadata": {},
     "output_type": "execute_result"
    },
    {
     "data": {
      "image/png": "[encoded data removed]",
      "text/plain": [
       "<Figure size 432x288 with 1 Axes>"
      ]
     },
     "metadata": {
      "needs_background": "light"
     },
     "output_type": "display_data"
    }
   ],
   "source": [
    "plt.plot(loss_list)"
   ]
  },
  {
   "cell_type": "code",
   "execution_count": 10,
   "id": "8ea2e222",
   "metadata": {},
   "outputs": [],
   "source": [
    "train_x=torch.tensor(states, dtype=torch.float)\n",
    "train_y=torch.tensor(actions, dtype=torch.float)"
   ]
  },
  {
   "cell_type": "code",
   "execution_count": 11,
   "id": "db03197d",
   "metadata": {},
   "outputs": [
    {
     "name": "stdout",
     "output_type": "stream",
     "text": [
      "regression score:  tensor(0.9850)\n"
     ]
    }
   ],
   "source": [
    "yhat=model(train_x).detach().numpy()\n",
    "score = 1 - ( (actions - yhat )**2 ).sum() /( (actions - actions.mean() )**2 ).sum()\n",
    "print('regression score: ', score)"
   ]
  },
  {
   "cell_type": "code",
   "execution_count": null,
   "id": "354194b4",
   "metadata": {},
   "outputs": [],
   "source": []
  },
  {
   "cell_type": "markdown",
   "id": "d16fc041",
   "metadata": {},
   "source": [
    "#### Rollout"
   ]
  },
  {
   "cell_type": "code",
   "execution_count": 12,
   "id": "9392d4c1",
   "metadata": {},
   "outputs": [],
   "source": [
    "env_name='Pendulum-v1'"
   ]
  },
  {
   "cell_type": "code",
   "execution_count": 13,
   "id": "76ce6074",
   "metadata": {},
   "outputs": [],
   "source": [
    "def play_an_episode(env_name, model, video_path=None, max_steps=1000):\n",
    "    video_writer=None \n",
    "    if video_path is not None:\n",
    "        print(f'Saving video to {video_path}')\n",
    "        video_writer = imageio.get_writer(video_path, fps=20)\n",
    "        env=gym.make(env_name, render_mode='rgb_array')\n",
    "    else:\n",
    "        env=gym.make(env_name)\n",
    "\n",
    "    obs,_=env.reset()\n",
    "    rewards=0\n",
    "    step=0\n",
    "    for _ in range(max_steps):\n",
    "        step+=1\n",
    "        state=torch.tensor(obs, dtype=torch.float)\n",
    "        action=model(state).detach().numpy() \n",
    "        obs, reward, done, trunc,_ = env.step(action)\n",
    "\n",
    "        if video_path is not None:\n",
    "            image=env.render()\n",
    "            video_writer.append_data(image)\n",
    "\n",
    "        rewards+=reward\n",
    "        if done or trunc:\n",
    "            break\n",
    "\n",
    "    if video_path is not None:\n",
    "        video_writer.close()\n",
    "    return {'reward':rewards, 'step':step-1}"
   ]
  },
  {
   "cell_type": "code",
   "execution_count": 14,
   "id": "394642a4",
   "metadata": {},
   "outputs": [
    {
     "name": "stdout",
     "output_type": "stream",
     "text": [
      "episode #0 reward: -120.17\n",
      "episode #1 reward: -1.21\n",
      "episode #2 reward: -366.85\n",
      "episode #3 reward: -122.84\n",
      "episode #4 reward: -114.30\n"
     ]
    },
    {
     "name": "stdout",
     "output_type": "stream",
     "text": [
      "episode #5 reward: -121.37\n",
      "episode #6 reward: -241.21\n",
      "episode #7 reward: -124.87\n",
      "episode #8 reward: -125.46\n",
      "episode #9 reward: -125.75\n",
      "episode #10 reward: -345.72\n",
      "episode #11 reward: -124.34\n",
      "episode #12 reward: -260.14\n",
      "episode #13 reward: -235.18\n",
      "episode #14 reward: -1.17\n",
      "episode #15 reward: -349.48\n",
      "episode #16 reward: -128.02\n",
      "episode #17 reward: -117.60\n",
      "episode #18 reward: -118.09\n",
      "episode #19 reward: -116.26\n",
      "\n",
      " score: -163.00 +- 100.90\n"
     ]
    }
   ],
   "source": [
    "scores=[]\n",
    "n_trajectory=20\n",
    "for i in range(n_trajectory):\n",
    "    stats=play_an_episode(env_name, model)\n",
    "    rewards=stats['reward']\n",
    "    print(f'episode #{i} reward: {rewards:0.2f}')\n",
    "    scores.append(rewards)\n",
    "\n",
    "print(f'\\n score: {np.mean(scores):0.2f} +- {np.std(scores):0.2f}')"
   ]
  },
  {
   "cell_type": "code",
   "execution_count": null,
   "id": "7bf41bdb",
   "metadata": {},
   "outputs": [],
   "source": []
  },
  {
   "cell_type": "markdown",
   "id": "3154b03f",
   "metadata": {},
   "source": [
    "### Let's render and save a video using the learned policy."
   ]
  },
  {
   "cell_type": "code",
   "execution_count": 15,
   "id": "35f1bb5c",
   "metadata": {},
   "outputs": [
    {
     "name": "stdout",
     "output_type": "stream",
     "text": [
      "Saving video to bc_pendulum.mp4\n"
     ]
    },
    {
     "name": "stderr",
     "output_type": "stream",
     "text": [
      "IMAGEIO FFMPEG_WRITER WARNING: input image is not divisible by macro_block_size=16, resizing from (500, 500) to (512, 512) to ensure video compatibility with most codecs and players. To prevent resizing, make your input image divisible by the macro_block_size or set the macro_block_size to 1 (risking incompatibility).\n",
      "[swscaler @ 0x5a46480] Warning: data is not aligned! This can lead to a speed loss\n"
     ]
    },
    {
     "data": {
      "text/plain": [
       "{'reward': -120.07627326550856, 'step': 199}"
      ]
     },
     "execution_count": 15,
     "metadata": {},
     "output_type": "execute_result"
    }
   ],
   "source": [
    "stats=play_an_episode(env_name, model, video_path='bc_pendulum.mp4')\n",
    "stats "
   ]
  },
  {
   "cell_type": "code",
   "execution_count": 17,
   "id": "c9564345",
   "metadata": {},
   "outputs": [
    {
     "data": {
      "text/html": [
       "<video src=\"bc_pendulum.mp4\" controls  >\n",
       "      Your browser does not support the <code>video</code> element.\n",
       "    </video>"
      ],
      "text/plain": [
       "<IPython.core.display.Video object>"
      ]
     },
     "execution_count": 17,
     "metadata": {},
     "output_type": "execute_result"
    }
   ],
   "source": [
    "from IPython.display import Video\n",
    "Video('bc_pendulum.mp4' )"
   ]
  },
  {
   "cell_type": "code",
   "execution_count": null,
   "id": "344c0e7e",
   "metadata": {},
   "outputs": [],
   "source": []
  },
  {
   "cell_type": "code",
   "execution_count": null,
   "id": "19b53f9c",
   "metadata": {},
   "outputs": [],
   "source": []
  },
  {
   "cell_type": "code",
   "execution_count": null,
   "id": "52b8af92",
   "metadata": {},
   "outputs": [],
   "source": []
  }
 ],
 "metadata": {
  "kernelspec": {
   "display_name": "Python 3 (ipykernel)",
   "language": "python",
   "name": "python3"
  },
  "language_info": {
   "codemirror_mode": {
    "name": "ipython",
    "version": 3
   },
   "file_extension": ".py",
   "mimetype": "text/x-python",
   "name": "python",
   "nbconvert_exporter": "python",
   "pygments_lexer": "ipython3",
   "version": "3.9.12"
  }
 },
 "nbformat": 4,
 "nbformat_minor": 5
}
