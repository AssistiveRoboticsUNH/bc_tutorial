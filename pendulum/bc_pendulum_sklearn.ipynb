{
 "cells": [
  {
   "cell_type": "code",
   "execution_count": 1,
   "id": "65edbede",
   "metadata": {},
   "outputs": [],
   "source": [
    "import warnings\n",
    "warnings.filterwarnings('ignore')\n",
    "\n",
    "import numpy as np \n",
    "import gym  \n",
    "from sklearn.linear_model import LinearRegression \n",
    "from sklearn.ensemble import RandomForestRegressor\n",
    "import pickle"
   ]
  },
  {
   "cell_type": "code",
   "execution_count": 2,
   "id": "90e28a72",
   "metadata": {},
   "outputs": [],
   "source": [
    "seed=42\n",
    "np.random.seed(seed)"
   ]
  },
  {
   "cell_type": "markdown",
   "id": "f9237f09",
   "metadata": {},
   "source": [
    "### Prepare data"
   ]
  },
  {
   "cell_type": "code",
   "execution_count": 3,
   "id": "8c44180e",
   "metadata": {},
   "outputs": [],
   "source": [
    "data_path=\"expert_data/Pendulum-v1_10_-130.pkl\""
   ]
  },
  {
   "cell_type": "code",
   "execution_count": 4,
   "id": "71c1e793",
   "metadata": {},
   "outputs": [
    {
     "name": "stdout",
     "output_type": "stream",
     "text": [
      "expert data loaded\n",
      "X: (2000, 3)  y: (2000, 1)\n"
     ]
    }
   ],
   "source": [
    "with open(data_path, \"rb\") as f:\n",
    "    data_good = pickle.load(f)\n",
    "print('expert data loaded')\n",
    "\n",
    "data_good=data_good[:20]\n",
    "\n",
    "good_obs=[]\n",
    "good_acts=[] \n",
    "for traj in data_good: \n",
    "    s,a,r=traj   \n",
    "    good_obs.append(s)\n",
    "    good_acts.append(a) \n",
    "\n",
    "states=np.vstack(good_obs)\n",
    "actions=np.vstack(good_acts)\n",
    "print('X:',states.shape,' y:', actions.shape)"
   ]
  },
  {
   "cell_type": "code",
   "execution_count": 5,
   "id": "24030cfd",
   "metadata": {},
   "outputs": [
    {
     "name": "stdout",
     "output_type": "stream",
     "text": [
      "3 1\n"
     ]
    }
   ],
   "source": [
    "action_dim=actions.shape[1]\n",
    "state_dim=states.shape[1]\n",
    "print(state_dim, action_dim)"
   ]
  },
  {
   "cell_type": "markdown",
   "id": "7fa75974",
   "metadata": {},
   "source": [
    "### Train Model"
   ]
  },
  {
   "cell_type": "code",
   "execution_count": 6,
   "id": "f2401083",
   "metadata": {},
   "outputs": [],
   "source": [
    "#Not very good, so we will use randomforestregressor instead\n",
    "# model=LinearRegression()\n",
    "# model.fit(states, actions)\n",
    "# score=model.score(states, actions)\n",
    "# print('score:', score) #score: 0.2268964998032269"
   ]
  },
  {
   "cell_type": "code",
   "execution_count": 7,
   "id": "036ed389",
   "metadata": {},
   "outputs": [
    {
     "name": "stdout",
     "output_type": "stream",
     "text": [
      "score: 0.9800361995773669\n"
     ]
    }
   ],
   "source": [
    "model=RandomForestRegressor()\n",
    "model.fit(states, actions)\n",
    "score=model.score(states, actions)\n",
    "print('score:', score)\n",
    "#Better, we will use this model as bc."
   ]
  },
  {
   "cell_type": "code",
   "execution_count": null,
   "id": "1d4568c4",
   "metadata": {},
   "outputs": [],
   "source": []
  },
  {
   "cell_type": "markdown",
   "id": "06255d0e",
   "metadata": {},
   "source": [
    "### Inference"
   ]
  },
  {
   "cell_type": "code",
   "execution_count": 8,
   "id": "b4a17934",
   "metadata": {},
   "outputs": [
    {
     "data": {
      "text/plain": [
       "Box(-2.0, 2.0, (1,), float32)"
      ]
     },
     "execution_count": 8,
     "metadata": {},
     "output_type": "execute_result"
    }
   ],
   "source": [
    "env_name='Pendulum-v1'\n",
    "env = gym.make(env_name)\n",
    "env.action_space"
   ]
  },
  {
   "cell_type": "code",
   "execution_count": null,
   "id": "5d6f1b7a",
   "metadata": {},
   "outputs": [],
   "source": []
  },
  {
   "cell_type": "code",
   "execution_count": 9,
   "id": "703a407f",
   "metadata": {},
   "outputs": [],
   "source": [
    "def play_an_episode(env_name, model, render=False, max_step=500):\n",
    "    if render:\n",
    "        env=gym.make(env_name, render_mode='human')\n",
    "    else:\n",
    "        env = gym.make(env_name)\n",
    "    total_reward=0  \n",
    "    state,info=env.reset() \n",
    "    for i in range(max_step):\n",
    "        if render: env.render()\n",
    "        action = model.predict([state])[0] \n",
    "        next_state,reward,done,trunc,info=env.step([action])\n",
    "        total_reward+=reward\n",
    "        state=next_state\n",
    "        if done or trunc: \n",
    "            break \n",
    "    \n",
    "    env.close()\n",
    "    return total_reward"
   ]
  },
  {
   "cell_type": "markdown",
   "id": "af909f26",
   "metadata": {},
   "source": [
    "### Single rollout with visualization"
   ]
  },
  {
   "cell_type": "code",
   "execution_count": 10,
   "id": "0f8f92e5",
   "metadata": {},
   "outputs": [
    {
     "name": "stdout",
     "output_type": "stream",
     "text": [
      "reward: -801.2741738335666\n"
     ]
    }
   ],
   "source": [
    "r=play_an_episode(env_name, model, render=True)\n",
    "print('reward:', r)"
   ]
  },
  {
   "cell_type": "code",
   "execution_count": null,
   "id": "824b61fb",
   "metadata": {},
   "outputs": [],
   "source": []
  },
  {
   "cell_type": "markdown",
   "id": "0830895a",
   "metadata": {},
   "source": [
    "### Mean reward over rollouts"
   ]
  },
  {
   "cell_type": "code",
   "execution_count": 11,
   "id": "1559f0ed",
   "metadata": {},
   "outputs": [
    {
     "name": "stdout",
     "output_type": "stream",
     "text": [
      "episode #0 reward: -871.44\n",
      "episode #1 reward: -823.56\n",
      "episode #2 reward: -1052.60\n",
      "episode #3 reward: -1112.49\n",
      "episode #4 reward: -1032.93\n",
      "episode #5 reward: -808.81\n",
      "episode #6 reward: -754.43\n",
      "episode #7 reward: -766.68\n",
      "episode #8 reward: -879.57\n",
      "episode #9 reward: -868.32\n",
      "episode #10 reward: -853.92\n",
      "episode #11 reward: -1034.77\n",
      "episode #12 reward: -120.58\n",
      "episode #13 reward: -1039.09\n",
      "episode #14 reward: -1053.02\n",
      "episode #15 reward: -1124.66\n",
      "episode #16 reward: -288.57\n",
      "episode #17 reward: -121.67\n",
      "episode #18 reward: -520.36\n",
      "episode #19 reward: -894.79\n",
      "\n",
      " score: -801.11 +- 299.22\n"
     ]
    }
   ],
   "source": [
    "scores=[]\n",
    "n_trajectory=20\n",
    "for i in range(n_trajectory):\n",
    "    rewards=play_an_episode(env_name, model)\n",
    "    print(f'episode #{i} reward: {rewards:0.2f}')\n",
    "    scores.append(rewards)\n",
    "\n",
    "print(f'\\n score: {np.mean(scores):0.2f} +- {np.std(scores):0.2f}')"
   ]
  },
  {
   "cell_type": "code",
   "execution_count": null,
   "id": "2a963e87",
   "metadata": {},
   "outputs": [],
   "source": []
  },
  {
   "cell_type": "code",
   "execution_count": null,
   "id": "b94bba92",
   "metadata": {},
   "outputs": [],
   "source": []
  },
  {
   "cell_type": "code",
   "execution_count": null,
   "id": "6faa6aca",
   "metadata": {},
   "outputs": [],
   "source": []
  }
 ],
 "metadata": {
  "kernelspec": {
   "display_name": "Python 3 (ipykernel)",
   "language": "python",
   "name": "python3"
  },
  "language_info": {
   "codemirror_mode": {
    "name": "ipython",
    "version": 3
   },
   "file_extension": ".py",
   "mimetype": "text/x-python",
   "name": "python",
   "nbconvert_exporter": "python",
   "pygments_lexer": "ipython3",
   "version": "3.9.12"
  }
 },
 "nbformat": 4,
 "nbformat_minor": 5
}
