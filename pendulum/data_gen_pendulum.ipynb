{
 "cells": [
  {
   "cell_type": "code",
   "execution_count": 1,
   "id": "a5a5c0a1",
   "metadata": {},
   "outputs": [],
   "source": [
    "import warnings\n",
    "warnings.filterwarnings(\"ignore\")"
   ]
  },
  {
   "cell_type": "code",
   "execution_count": 2,
   "id": "297307dd-4476-44b7-ac81-3bc6657819f7",
   "metadata": {},
   "outputs": [
    {
     "name": "stderr",
     "output_type": "stream",
     "text": [
      "/home/ns/anaconda3/lib/python3.9/site-packages/botocore/httpsession.py:34: DeprecationWarning: 'urllib3.contrib.pyopenssl' module is deprecated and will be removed in a future release of urllib3 2.x. Read more in this issue: https://github.com/urllib3/urllib3/issues/2680\n",
      "  from urllib3.contrib.pyopenssl import orig_util_SSLContext as SSLContext\n"
     ]
    }
   ],
   "source": [
    "# from imitation.data import rollout\n",
    "import pickle\n",
    "\n",
    "\n",
    "# import seals  # noqa: F401\n",
    "import stable_baselines3 as sb3\n",
    "from stable_baselines3 import PPO, SAC\n",
    "from stable_baselines3.ppo import MlpPolicy\n",
    "\n",
    "import gym\n",
    "# from imitation.algorithms.bc import BC\n",
    "from stable_baselines3.common.policies  import ActorCriticPolicy, ActorCriticCnnPolicy\n",
    "from stable_baselines3.common.evaluation import evaluate_policy\n",
    "import numpy as np\n",
    "\n",
    "from stable_baselines3.common.env_util import make_vec_env "
   ]
  },
  {
   "cell_type": "code",
   "execution_count": 3,
   "id": "5843b0f5",
   "metadata": {},
   "outputs": [],
   "source": [
    "env_name='Pendulum-v1' \n",
    "env = gym.make(env_name)"
   ]
  },
  {
   "cell_type": "code",
   "execution_count": 4,
   "id": "412d3bf2-b358-46cc-b510-c4095468574e",
   "metadata": {},
   "outputs": [],
   "source": [
    "savepath= \"trained_models/Pendulum-v1.zip\"\n",
    "model=SAC.load(savepath, print_system_info=False)"
   ]
  },
  {
   "cell_type": "code",
   "execution_count": null,
   "id": "f4a2653f",
   "metadata": {},
   "outputs": [],
   "source": []
  },
  {
   "cell_type": "code",
   "execution_count": 5,
   "id": "b6a28f5d",
   "metadata": {},
   "outputs": [],
   "source": [
    "def collect_trajectory(env, policy_net, n_trajectory=20, epsilon=0.0):\n",
    "    trajectories=[] \n",
    "    scores=[]\n",
    "    for episode in range(n_trajectory):\n",
    "        state,info = env.reset()\n",
    "        score = 0 \n",
    "        states=[]\n",
    "        actions=[]\n",
    "        rewards=[]\n",
    "        while True:\n",
    "            if epsilon==0:\n",
    "                action, _states = policy_net.predict(state, deterministic=True)\n",
    "            else:\n",
    "                if np.random.random() > (1-epsilon):\n",
    "                    action=env.action_space.sample() \n",
    "                else:\n",
    "                    action, _states = policy_net.predict(state, deterministic=True)\n",
    "            \n",
    "            next_state, reward, done,s, _ = env.step(action)\n",
    "            score+=reward\n",
    "             \n",
    "            states.append(state)\n",
    "            actions.append(action)\n",
    "            rewards.append(reward)\n",
    "            state = next_state \n",
    "            if done or s:  \n",
    "                scores.append(score)\n",
    "                break\n",
    "        \n",
    "        states=np.vstack(states)\n",
    "        actions=np.vstack(actions)\n",
    "        rewards=np.vstack(rewards)\n",
    "        trajectories.append((states, actions, rewards))  \n",
    "        if episode % 1 == 0:\n",
    "            print('{} episode score is {:.2f}'.format(episode, score))\n",
    "    env.close()\n",
    "    return scores, trajectories"
   ]
  },
  {
   "cell_type": "code",
   "execution_count": 6,
   "id": "9b889b07",
   "metadata": {},
   "outputs": [
    {
     "name": "stdout",
     "output_type": "stream",
     "text": [
      "collecting trajectories ...\n",
      "0 episode score is -251.53\n",
      "1 episode score is -118.59\n",
      "2 episode score is -132.65\n",
      "3 episode score is -122.70\n",
      "4 episode score is -121.26\n",
      "5 episode score is -232.95\n",
      "6 episode score is -123.39\n",
      "7 episode score is -121.60\n",
      "8 episode score is -118.17\n",
      "9 episode score is -226.21\n",
      "10 episode score is -125.43\n",
      "11 episode score is -226.83\n",
      "12 episode score is -226.39\n",
      "13 episode score is -223.10\n",
      "14 episode score is -227.38\n",
      "15 episode score is -117.16\n",
      "16 episode score is -117.08\n",
      "17 episode score is -125.65\n",
      "18 episode score is -224.37\n",
      "19 episode score is -228.14\n",
      "20 episode score is -120.54\n",
      "21 episode score is -1.25\n",
      "22 episode score is -125.47\n",
      "23 episode score is -1.26\n",
      "24 episode score is -116.74\n",
      "25 episode score is -124.98\n",
      "26 episode score is -116.22\n",
      "27 episode score is -121.03\n",
      "28 episode score is -1.97\n",
      "29 episode score is -128.15\n",
      "30 episode score is -227.68\n",
      "31 episode score is -237.49\n",
      "32 episode score is -121.13\n",
      "33 episode score is -121.38\n",
      "34 episode score is -123.70\n",
      "35 episode score is -225.21\n",
      "36 episode score is -121.13\n",
      "37 episode score is -226.15\n",
      "38 episode score is -124.16\n",
      "39 episode score is -116.30\n",
      "40 episode score is -123.69\n",
      "41 episode score is -220.70\n",
      "42 episode score is -339.18\n",
      "43 episode score is -129.73\n",
      "44 episode score is -128.30\n",
      "45 episode score is -126.20\n",
      "46 episode score is -228.67\n",
      "47 episode score is -4.24\n",
      "48 episode score is -244.90\n",
      "49 episode score is -1.16\n",
      "mean score: -149.18549113260843\n"
     ]
    }
   ],
   "source": [
    "print('collecting trajectories ...')\n",
    "n_trajectory=50\n",
    "scores, trajectories = collect_trajectory(env , model, n_trajectory)\n",
    "mean=np.mean(scores)\n",
    "print('mean score:', mean)"
   ]
  },
  {
   "cell_type": "code",
   "execution_count": null,
   "id": "f52c0162",
   "metadata": {},
   "outputs": [],
   "source": []
  },
  {
   "cell_type": "code",
   "execution_count": 7,
   "id": "fb301bb1",
   "metadata": {},
   "outputs": [
    {
     "name": "stdout",
     "output_type": "stream",
     "text": [
      "saving  expert_data/Pendulum-v1_50_-149.pkl\n",
      "trajectories saved.\n"
     ]
    }
   ],
   "source": [
    "import pickle\n",
    "\n",
    "filename=f\"expert_data/{env_name}_{n_trajectory}_{int(mean)}.pkl\"\n",
    "print('saving ',filename)\n",
    "\n",
    "with open(filename, 'wb') as f:\n",
    "    pickle.dump(trajectories, f)\n",
    "print('trajectories saved.')"
   ]
  },
  {
   "cell_type": "code",
   "execution_count": null,
   "id": "31dd177b-6152-4087-9294-b8a28d9024ff",
   "metadata": {},
   "outputs": [],
   "source": []
  },
  {
   "cell_type": "code",
   "execution_count": null,
   "id": "1884a496-1314-4f2a-9f1d-4e8bb8093522",
   "metadata": {},
   "outputs": [],
   "source": []
  },
  {
   "cell_type": "code",
   "execution_count": null,
   "id": "bb9fc110-ef93-40b8-abdd-b919e19c047f",
   "metadata": {},
   "outputs": [],
   "source": []
  },
  {
   "cell_type": "code",
   "execution_count": 16,
   "id": "35c88c16-469d-4afa-aac5-3765b99eb6d0",
   "metadata": {},
   "outputs": [],
   "source": []
  },
  {
   "cell_type": "code",
   "execution_count": null,
   "id": "b8307862-c387-4b6d-b247-368c20d6873a",
   "metadata": {},
   "outputs": [],
   "source": []
  },
  {
   "cell_type": "code",
   "execution_count": null,
   "id": "d5db7d70-3159-4128-b980-c6a22223fef8",
   "metadata": {},
   "outputs": [],
   "source": []
  },
  {
   "cell_type": "code",
   "execution_count": null,
   "id": "cd967178-d12b-42c0-8b87-af4558c27c9f",
   "metadata": {},
   "outputs": [],
   "source": []
  },
  {
   "cell_type": "code",
   "execution_count": null,
   "id": "1048b874-1d90-4af4-9dc9-f75a11918812",
   "metadata": {},
   "outputs": [],
   "source": []
  }
 ],
 "metadata": {
  "kernelspec": {
   "display_name": "base",
   "language": "python",
   "name": "python3"
  },
  "language_info": {
   "codemirror_mode": {
    "name": "ipython",
    "version": 3
   },
   "file_extension": ".py",
   "mimetype": "text/x-python",
   "name": "python",
   "nbconvert_exporter": "python",
   "pygments_lexer": "ipython3",
   "version": "3.9.12"
  }
 },
 "nbformat": 4,
 "nbformat_minor": 5
}
