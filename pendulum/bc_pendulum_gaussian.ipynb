{
 "cells": [
  {
   "cell_type": "code",
   "execution_count": 1,
   "metadata": {},
   "outputs": [],
   "source": [
    "import warnings\n",
    "warnings.filterwarnings('ignore')\n",
    "\n",
    "import pickle\n",
    "import gym\n",
    "import numpy as np\n",
    "import torch\n",
    "import torch.nn as nn\n",
    "import torch.optim as optim\n",
    "from torch.distributions import Normal\n",
    "import tqdm"
   ]
  },
  {
   "cell_type": "code",
   "execution_count": 2,
   "metadata": {},
   "outputs": [
    {
     "data": {
      "text/plain": [
       "device(type='cpu')"
      ]
     },
     "execution_count": 2,
     "metadata": {},
     "output_type": "execute_result"
    }
   ],
   "source": [
    "device = torch.device(\"cuda\" if torch.cuda.is_available() else \"cpu\")\n",
    "device"
   ]
  },
  {
   "cell_type": "markdown",
   "metadata": {},
   "source": [
    "### BC policy with negative log-likelihood loss"
   ]
  },
  {
   "cell_type": "code",
   "execution_count": 3,
   "metadata": {},
   "outputs": [],
   "source": [
    "class MLP(nn.Module):\n",
    "    def __init__(self, input_dim, size=32):\n",
    "        super(MLP, self).__init__()\n",
    "        self.net = nn.Sequential(\n",
    "            nn.Linear(input_dim,size),\n",
    "            nn.ReLU(), \n",
    "            nn.Linear(size,size),\n",
    "            nn.ReLU() \n",
    "        )\n",
    "    def forward(self,x):\n",
    "        x = self.net(x)\n",
    "        return x\n",
    " \n",
    "class GaussianPolicy(MLP):\n",
    "    def __init__(self, input_dim, output_dim, hidden_size=64):\n",
    "        super(GaussianPolicy, self).__init__(input_dim, hidden_size) \n",
    "        self.mean = nn.Linear(hidden_size, output_dim) \n",
    "        self.log_std_layer = nn.Linear(hidden_size, output_dim)\n",
    "\n",
    "    def forward(self, state):\n",
    "        x = self.net(state)\n",
    "        mean = self.mean(x) \n",
    "        log_std = self.log_std_layer(x)  # Predict log_std using a linear layer\n",
    "        std = torch.exp(log_std)\n",
    "\n",
    "        return mean, std"
   ]
  },
  {
   "cell_type": "code",
   "execution_count": 4,
   "metadata": {},
   "outputs": [],
   "source": [
    "input_dim = 3\n",
    "output_dim = 1  \n",
    "hidden_size = 64\n",
    "batch_size = 64\n",
    "num_epochs = 1_000\n",
    "learning_rate = 1e-4\n",
    "\n",
    "# Initialize policy and optimizer\n",
    "policy = GaussianPolicy(input_dim, output_dim, hidden_size)\n",
    "optimizer = optim.Adam(policy.parameters(), lr=learning_rate)"
   ]
  },
  {
   "cell_type": "code",
   "execution_count": 5,
   "metadata": {},
   "outputs": [],
   "source": [
    "env_name='Pendulum-v1'\n",
    "data_path=\"/home/ns/bc_tutorial/pendulum/expert_data/Pendulum-v1_10_-130.pkl\" \n",
    "data_path = \"expert_data/Pendulum-v1_50_-149.pkl\""
   ]
  },
  {
   "cell_type": "code",
   "execution_count": 6,
   "metadata": {},
   "outputs": [
    {
     "name": "stdout",
     "output_type": "stream",
     "text": [
      "expert data loaded\n",
      "X: (4000, 3)  y: (4000, 1)\n"
     ]
    }
   ],
   "source": [
    "with open(data_path, \"rb\") as f:\n",
    "    data_good = pickle.load(f)\n",
    "print('expert data loaded')\n",
    "\n",
    "data_good=data_good[:20]\n",
    "\n",
    "good_obs=[]\n",
    "good_acts=[] \n",
    "for traj in data_good: \n",
    "    s,a,r=traj   \n",
    "    good_obs.append(s)\n",
    "    good_acts.append(a) \n",
    "\n",
    "states=np.vstack(good_obs)\n",
    "actions=np.vstack(good_acts)\n",
    "print('X:',states.shape,' y:', actions.shape)"
   ]
  },
  {
   "cell_type": "code",
   "execution_count": 7,
   "metadata": {},
   "outputs": [
    {
     "data": {
      "text/plain": [
       "(torch.Size([64, 3]), torch.Size([64, 1]))"
      ]
     },
     "execution_count": 7,
     "metadata": {},
     "output_type": "execute_result"
    }
   ],
   "source": [
    "data_loader = torch.utils.data.DataLoader( list(zip(states, actions)), batch_size=64, shuffle=True)\n",
    "\n",
    "batch=next(iter(data_loader))\n",
    "states,actions = batch\n",
    "states.shape,actions.shape"
   ]
  },
  {
   "cell_type": "code",
   "execution_count": null,
   "metadata": {},
   "outputs": [],
   "source": []
  },
  {
   "cell_type": "code",
   "execution_count": 8,
   "metadata": {},
   "outputs": [
    {
     "name": "stdout",
     "output_type": "stream",
     "text": [
      "Epoch 0 Loss: 1.063\n",
      "Epoch 50 Loss: 0.451\n",
      "Epoch 100 Loss: -0.527\n",
      "Epoch 150 Loss: -0.687\n",
      "Epoch 200 Loss: -0.792\n",
      "Epoch 250 Loss: -0.892\n",
      "Epoch 300 Loss: -0.995\n",
      "Epoch 350 Loss: -1.104\n",
      "Epoch 400 Loss: -1.229\n",
      "Epoch 450 Loss: -1.339\n",
      "Epoch 500 Loss: -1.485\n",
      "Epoch 550 Loss: -1.659\n",
      "Epoch 600 Loss: -1.837\n",
      "Epoch 650 Loss: -2.045\n",
      "Epoch 700 Loss: -2.282\n",
      "Epoch 750 Loss: -2.648\n",
      "Epoch 800 Loss: -3.045\n",
      "Epoch 850 Loss: -3.358\n",
      "Epoch 900 Loss: -3.424\n",
      "Epoch 950 Loss: -3.642\n"
     ]
    }
   ],
   "source": [
    "for epoch in range(num_epochs): \n",
    "    total_loss=0\n",
    "    b=0\n",
    "    for states, actions in data_loader: \n",
    "        \n",
    "        # Forward pass\n",
    "        means, stds = policy(states)\n",
    "        dist = Normal(means, stds)\n",
    "        log_probs = dist.log_prob(actions).sum(dim=-1)\n",
    "        loss = -log_probs.mean()\n",
    "\n",
    "        total_loss += loss.item() \n",
    "        b=b+1\n",
    "\n",
    "        # Backward pass\n",
    "        optimizer.zero_grad()\n",
    "        loss.backward()\n",
    "        optimizer.step()\n",
    "\n",
    "    if epoch % (num_epochs//20)==0:\n",
    "        print(f'Epoch {epoch} Loss: {total_loss/b:.3f}')\n"
   ]
  },
  {
   "cell_type": "code",
   "execution_count": 9,
   "metadata": {},
   "outputs": [
    {
     "data": {
      "text/plain": [
       "array([ 0.634646  ,  0.77280295, -0.6687829 ], dtype=float32)"
      ]
     },
     "execution_count": 9,
     "metadata": {},
     "output_type": "execute_result"
    }
   ],
   "source": [
    "env = gym.make(env_name)\n",
    "obs,info = env.reset()\n",
    "obs"
   ]
  },
  {
   "cell_type": "code",
   "execution_count": null,
   "metadata": {},
   "outputs": [],
   "source": []
  },
  {
   "cell_type": "code",
   "execution_count": 10,
   "metadata": {},
   "outputs": [],
   "source": [
    "def play(env, policy, is_close=True, is_render=True, max_step=1000): \n",
    "    obs,info = env.reset()\n",
    "    dones=False\n",
    "    total_r=0\n",
    "    step=0\n",
    "    while not dones: \n",
    "        step+=1\n",
    "        states=torch.tensor(obs[None], dtype=torch.float)\n",
    "        means, stds = policy(states) \n",
    "        action=means[0][0].detach().numpy() \n",
    "\n",
    "        obs, rewards, done, trunc, info = env.step([action] )\n",
    "        total_r +=rewards  \n",
    "        if done or trunc:\n",
    "            break\n",
    "    if is_close or is_render:\n",
    "        env.close()\n",
    "    return {'reward':total_r, 'step':step-1}"
   ]
  },
  {
   "cell_type": "code",
   "execution_count": 11,
   "metadata": {},
   "outputs": [
    {
     "data": {
      "text/plain": [
       "{'reward': -128.05186544935088, 'step': 199}"
      ]
     },
     "execution_count": 11,
     "metadata": {},
     "output_type": "execute_result"
    }
   ],
   "source": [
    "env=gym.make(env_name)\n",
    "stats=play(env, policy, is_close=True, is_render=False)\n",
    "stats"
   ]
  },
  {
   "cell_type": "code",
   "execution_count": 12,
   "metadata": {},
   "outputs": [
    {
     "name": "stdout",
     "output_type": "stream",
     "text": [
      "episode #0 reward: -122.40\n",
      "episode #1 reward: -120.88\n",
      "episode #2 reward: -1.65\n",
      "episode #3 reward: -386.62\n",
      "episode #4 reward: -117.18\n",
      "episode #5 reward: -120.13\n",
      "episode #6 reward: -357.32\n",
      "episode #7 reward: -120.29\n",
      "episode #8 reward: -120.05\n",
      "episode #9 reward: -119.19\n",
      "episode #10 reward: -122.21\n",
      "episode #11 reward: -398.29\n",
      "episode #12 reward: -124.01\n",
      "episode #13 reward: -125.03\n",
      "episode #14 reward: -128.00\n",
      "episode #15 reward: -3.19\n",
      "episode #16 reward: -1.62\n",
      "episode #17 reward: -245.85\n",
      "episode #18 reward: -120.76\n",
      "episode #19 reward: -121.78\n",
      "\n",
      " score: -148.82 +- 110.88\n"
     ]
    }
   ],
   "source": [
    "scores=[]\n",
    "n_trajectory=20\n",
    "for i in range(n_trajectory):\n",
    "    stats=play(env, policy, is_close=True, is_render=False)\n",
    "    rewards=stats['reward']\n",
    "    print(f'episode #{i} reward: {rewards:0.2f}')\n",
    "    scores.append(rewards)\n",
    "\n",
    "print(f'\\n score: {np.mean(scores):0.2f} +- {np.std(scores):0.2f}')"
   ]
  },
  {
   "cell_type": "code",
   "execution_count": null,
   "metadata": {},
   "outputs": [],
   "source": []
  },
  {
   "cell_type": "code",
   "execution_count": null,
   "metadata": {},
   "outputs": [],
   "source": []
  },
  {
   "cell_type": "code",
   "execution_count": null,
   "metadata": {},
   "outputs": [],
   "source": []
  }
 ],
 "metadata": {
  "kernelspec": {
   "display_name": "imitation-dice",
   "language": "python",
   "name": "python3"
  },
  "language_info": {
   "codemirror_mode": {
    "name": "ipython",
    "version": 3
   },
   "file_extension": ".py",
   "mimetype": "text/x-python",
   "name": "python",
   "nbconvert_exporter": "python",
   "pygments_lexer": "ipython3",
   "version": "3.9.12"
  },
  "orig_nbformat": 4
 },
 "nbformat": 4,
 "nbformat_minor": 2
}
