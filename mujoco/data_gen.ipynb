{
 "cells": [
  {
   "cell_type": "code",
   "execution_count": 1,
   "id": "a5a5c0a1",
   "metadata": {},
   "outputs": [],
   "source": [
    "import warnings\n",
    "warnings.filterwarnings(\"ignore\")"
   ]
  },
  {
   "cell_type": "code",
   "execution_count": 2,
   "id": "297307dd-4476-44b7-ac81-3bc6657819f7",
   "metadata": {},
   "outputs": [
    {
     "name": "stderr",
     "output_type": "stream",
     "text": [
      "/home/ns/anaconda3/lib/python3.9/site-packages/botocore/httpsession.py:34: DeprecationWarning: 'urllib3.contrib.pyopenssl' module is deprecated and will be removed in a future release of urllib3 2.x. Read more in this issue: https://github.com/urllib3/urllib3/issues/2680\n",
      "  from urllib3.contrib.pyopenssl import orig_util_SSLContext as SSLContext\n"
     ]
    }
   ],
   "source": [
    "import pickle \n",
    "from stable_baselines3 import SAC\n",
    "from stable_baselines3.ppo import MlpPolicy\n",
    "\n",
    "import gym\n",
    "from stable_baselines3.common.policies  import ActorCriticPolicy, ActorCriticCnnPolicy\n",
    "from stable_baselines3.common.evaluation import evaluate_policy\n",
    "import numpy as np\n",
    "\n",
    "from stable_baselines3.common.env_util import make_vec_env \n",
    "import pickle"
   ]
  },
  {
   "cell_type": "markdown",
   "id": "8c6ce877",
   "metadata": {},
   "source": [
    "### Using SAC Trained Model\n",
    "* downloaded from https://huggingface.co/sb3"
   ]
  },
  {
   "cell_type": "code",
   "execution_count": null,
   "id": "8a996249",
   "metadata": {},
   "outputs": [],
   "source": []
  },
  {
   "cell_type": "code",
   "execution_count": 3,
   "id": "b6a28f5d",
   "metadata": {},
   "outputs": [],
   "source": [
    "def collect_trajectory(env, policy_net, n_trajectory=20, epsilon=0.0):\n",
    "    trajectories=[] \n",
    "    scores=[]\n",
    "    for episode in range(n_trajectory):\n",
    "        state,info = env.reset()\n",
    "        score = 0 \n",
    "        states=[]\n",
    "        actions=[]\n",
    "        rewards=[]\n",
    "        while True:\n",
    "            if epsilon==0:\n",
    "                action, _states = policy_net.predict(state, deterministic=True)\n",
    "            else:\n",
    "                if np.random.random() > (1-epsilon):\n",
    "                    action=env.action_space.sample() \n",
    "                else:\n",
    "                    action, _states = policy_net.predict(state, deterministic=True)\n",
    "            \n",
    "            next_state, reward, done,s, _ = env.step(action)\n",
    "            score+=reward\n",
    "             \n",
    "            states.append(state)\n",
    "            actions.append(action)\n",
    "            rewards.append(reward)\n",
    "            state = next_state \n",
    "            if done or s:  \n",
    "                scores.append(score)\n",
    "                break\n",
    "        \n",
    "        states=np.vstack(states)\n",
    "        actions=np.vstack(actions)\n",
    "        rewards=np.vstack(rewards)\n",
    "        trajectories.append((states, actions, rewards))  \n",
    "        if episode % 1 == 0:\n",
    "            print('{} episode score is {:.2f}'.format(episode, score))\n",
    "    env.close()\n",
    "    return scores, trajectories"
   ]
  },
  {
   "cell_type": "markdown",
   "id": "cbc21c0c",
   "metadata": {},
   "source": [
    "### Ant"
   ]
  },
  {
   "cell_type": "code",
   "execution_count": 4,
   "id": "412d3bf2-b358-46cc-b510-c4095468574e",
   "metadata": {},
   "outputs": [],
   "source": [
    "savepath= \"trained_models/sb3_sac_Ant-v3.zip\"\n",
    "model=SAC.load(savepath, print_system_info=False)"
   ]
  },
  {
   "cell_type": "code",
   "execution_count": 5,
   "id": "5843b0f5",
   "metadata": {},
   "outputs": [],
   "source": [
    "env_name='Ant-v3' \n",
    "env_t = gym.make(env_name)"
   ]
  },
  {
   "cell_type": "code",
   "execution_count": 6,
   "id": "9b889b07",
   "metadata": {},
   "outputs": [
    {
     "name": "stdout",
     "output_type": "stream",
     "text": [
      "collecting trajectories ...\n",
      "0 episode score is 5246.79\n",
      "1 episode score is 3756.22\n",
      "2 episode score is 4987.11\n",
      "3 episode score is 5392.41\n",
      "4 episode score is 5097.51\n",
      "5 episode score is 5185.53\n",
      "6 episode score is 5309.34\n",
      "7 episode score is 5258.45\n",
      "8 episode score is 5468.29\n",
      "9 episode score is 4914.24\n",
      "mean score: 5061.589123630422\n"
     ]
    }
   ],
   "source": [
    "print('collecting trajectories ...')\n",
    "n_trajectory=10\n",
    "scores, trajectories = collect_trajectory(env_t, model, n_trajectory)\n",
    "mean=np.mean(scores)\n",
    "print('mean score:', mean)"
   ]
  },
  {
   "cell_type": "code",
   "execution_count": 7,
   "id": "fb301bb1",
   "metadata": {},
   "outputs": [
    {
     "name": "stdout",
     "output_type": "stream",
     "text": [
      "saving  expert_data/Ant-v3_10_5061.pkl\n",
      "trajectories saved.\n"
     ]
    }
   ],
   "source": [
    "filename=f\"expert_data/{env_name}_{n_trajectory}_{int(mean)}.pkl\"\n",
    "print('saving ',filename)\n",
    "\n",
    "with open(filename, 'wb') as f:\n",
    "    pickle.dump(trajectories, f)\n",
    "print('trajectories saved.')"
   ]
  },
  {
   "cell_type": "code",
   "execution_count": null,
   "id": "31dd177b-6152-4087-9294-b8a28d9024ff",
   "metadata": {},
   "outputs": [],
   "source": []
  },
  {
   "cell_type": "markdown",
   "id": "2c5cdd63",
   "metadata": {},
   "source": [
    "### Halfcheetah"
   ]
  },
  {
   "cell_type": "code",
   "execution_count": 8,
   "id": "1884a496-1314-4f2a-9f1d-4e8bb8093522",
   "metadata": {},
   "outputs": [],
   "source": [
    "env_name='HalfCheetah-v3' \n",
    "env_t = gym.make(env_name)\n",
    "\n",
    "savepath= \"trained_models/sb3_sac_HalfCheetah-v3.zip\"\n",
    "model=SAC.load(savepath, print_system_info=False)"
   ]
  },
  {
   "cell_type": "code",
   "execution_count": 9,
   "id": "bb9fc110-ef93-40b8-abdd-b919e19c047f",
   "metadata": {},
   "outputs": [
    {
     "name": "stdout",
     "output_type": "stream",
     "text": [
      "collecting trajectories ...\n",
      "0 episode score is 9545.70\n",
      "1 episode score is 9369.82\n",
      "2 episode score is 9424.86\n",
      "3 episode score is 9485.17\n",
      "4 episode score is 9508.30\n",
      "5 episode score is 9501.30\n",
      "6 episode score is 9530.53\n",
      "7 episode score is 9674.54\n",
      "8 episode score is 9502.12\n",
      "9 episode score is 9441.51\n",
      "mean score: 9498.384559390988\n"
     ]
    }
   ],
   "source": [
    "print('collecting trajectories ...')\n",
    "n_trajectory=10\n",
    "scores, trajectories = collect_trajectory(env_t, model, n_trajectory)\n",
    "mean=np.mean(scores)\n",
    "print('mean score:', mean)"
   ]
  },
  {
   "cell_type": "code",
   "execution_count": 10,
   "id": "35c88c16-469d-4afa-aac5-3765b99eb6d0",
   "metadata": {},
   "outputs": [
    {
     "name": "stdout",
     "output_type": "stream",
     "text": [
      "saving  expert_data/HalfCheetah-v3_10_9498.pkl\n",
      "trajectories saved.\n"
     ]
    }
   ],
   "source": [
    "filename=f\"expert_data/{env_name}_{n_trajectory}_{int(mean)}.pkl\"\n",
    "print('saving ',filename)\n",
    "\n",
    "with open(filename, 'wb') as f:\n",
    "    pickle.dump(trajectories, f)\n",
    "print('trajectories saved.')"
   ]
  },
  {
   "cell_type": "code",
   "execution_count": null,
   "id": "b8307862-c387-4b6d-b247-368c20d6873a",
   "metadata": {},
   "outputs": [],
   "source": []
  },
  {
   "cell_type": "markdown",
   "id": "a7ba79f9",
   "metadata": {},
   "source": [
    "### Humanoid"
   ]
  },
  {
   "cell_type": "code",
   "execution_count": 11,
   "id": "d5db7d70-3159-4128-b980-c6a22223fef8",
   "metadata": {},
   "outputs": [],
   "source": [
    "env_name='Humanoid-v3' \n",
    "env_t = gym.make(env_name)\n",
    "\n",
    "savepath= \"trained_models/sb3_sac_Humanoid-v3.zip\"\n",
    "model=SAC.load(savepath, print_system_info=False)"
   ]
  },
  {
   "cell_type": "code",
   "execution_count": 12,
   "id": "cd967178-d12b-42c0-8b87-af4558c27c9f",
   "metadata": {},
   "outputs": [
    {
     "name": "stdout",
     "output_type": "stream",
     "text": [
      "collecting trajectories ...\n",
      "0 episode score is 6263.36\n",
      "1 episode score is 6255.51\n",
      "2 episode score is 6288.52\n",
      "3 episode score is 6249.82\n",
      "4 episode score is 6265.81\n",
      "5 episode score is 6258.31\n",
      "6 episode score is 6238.61\n",
      "7 episode score is 6086.96\n",
      "8 episode score is 6184.13\n",
      "9 episode score is 6264.66\n",
      "mean score: 6235.567992548466\n"
     ]
    }
   ],
   "source": [
    "print('collecting trajectories ...')\n",
    "n_trajectory=10\n",
    "scores, trajectories = collect_trajectory(env_t, model, n_trajectory)\n",
    "mean=np.mean(scores)\n",
    "print('mean score:', mean)"
   ]
  },
  {
   "cell_type": "code",
   "execution_count": 13,
   "id": "f7cc4ed0",
   "metadata": {},
   "outputs": [
    {
     "name": "stdout",
     "output_type": "stream",
     "text": [
      "saving  expert_data/Humanoid-v3_10_6235.pkl\n",
      "trajectories saved.\n"
     ]
    }
   ],
   "source": [
    "filename=f\"expert_data/{env_name}_{n_trajectory}_{int(mean)}.pkl\"\n",
    "print('saving ',filename)\n",
    "\n",
    "with open(filename, 'wb') as f:\n",
    "    pickle.dump(trajectories, f)\n",
    "print('trajectories saved.')"
   ]
  },
  {
   "cell_type": "code",
   "execution_count": null,
   "id": "e84b53c6",
   "metadata": {},
   "outputs": [],
   "source": []
  },
  {
   "cell_type": "code",
   "execution_count": null,
   "id": "7324cc46",
   "metadata": {},
   "outputs": [],
   "source": []
  },
  {
   "cell_type": "code",
   "execution_count": null,
   "id": "ff90d31e",
   "metadata": {},
   "outputs": [],
   "source": []
  },
  {
   "cell_type": "code",
   "execution_count": null,
   "id": "1048b874-1d90-4af4-9dc9-f75a11918812",
   "metadata": {},
   "outputs": [],
   "source": []
  }
 ],
 "metadata": {
  "kernelspec": {
   "display_name": "base",
   "language": "python",
   "name": "python3"
  },
  "language_info": {
   "codemirror_mode": {
    "name": "ipython",
    "version": 3
   },
   "file_extension": ".py",
   "mimetype": "text/x-python",
   "name": "python",
   "nbconvert_exporter": "python",
   "pygments_lexer": "ipython3",
   "version": "3.9.12"
  }
 },
 "nbformat": 4,
 "nbformat_minor": 5
}
