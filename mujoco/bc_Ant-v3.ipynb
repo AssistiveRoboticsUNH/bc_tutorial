{
 "cells": [
  {
   "cell_type": "code",
   "execution_count": 1,
   "metadata": {},
   "outputs": [],
   "source": [
    "import warnings\n",
    "warnings.filterwarnings(\"ignore\")"
   ]
  },
  {
   "cell_type": "code",
   "execution_count": 2,
   "metadata": {},
   "outputs": [],
   "source": [
    "import numpy as np \n",
    "import time \n",
    "import numpy as np\n",
    "import torch\n",
    "import torch.nn as nn\n",
    "import time\n",
    "import gym \n",
    "import pickle  \n",
    "import argparse\n",
    "import torch.nn.functional as F\n",
    "from torch.distributions import Normal\n",
    "from torch.distributions.transformed_distribution import TransformedDistribution\n",
    "from torch.distributions.transforms import TanhTransform\n",
    "from torch.optim import Adam\n",
    "import tqdm\n",
    "\n",
    "from torch.utils.data import DataLoader "
   ]
  },
  {
   "cell_type": "code",
   "execution_count": 3,
   "metadata": {},
   "outputs": [
    {
     "data": {
      "text/plain": [
       "device(type='cpu')"
      ]
     },
     "execution_count": 3,
     "metadata": {},
     "output_type": "execute_result"
    }
   ],
   "source": [
    "device = torch.device(\"cuda\" if torch.cuda.is_available() else \"cpu\")\n",
    "device"
   ]
  },
  {
   "cell_type": "code",
   "execution_count": 4,
   "metadata": {},
   "outputs": [],
   "source": [
    "env_name='Ant-v3' "
   ]
  },
  {
   "cell_type": "code",
   "execution_count": null,
   "metadata": {},
   "outputs": [],
   "source": []
  },
  {
   "cell_type": "code",
   "execution_count": 5,
   "metadata": {},
   "outputs": [
    {
     "name": "stdout",
     "output_type": "stream",
     "text": [
      "expert data loaded\n"
     ]
    }
   ],
   "source": [
    "data_path = \"expert_data/Ant-v3_10_3765.pkl\"  \n",
    "\n",
    "with open(data_path, \"rb\") as f:\n",
    "    data_good = pickle.load(f)\n",
    "print('expert data loaded')\n",
    "\n",
    "# data_good = data_good[:10]"
   ]
  },
  {
   "cell_type": "code",
   "execution_count": 6,
   "metadata": {},
   "outputs": [],
   "source": [
    "good_obs=[]\n",
    "good_acts=[]\n",
    "\n",
    "for traj in data_good: \n",
    "    s,a,r=traj  \n",
    "\n",
    "    good_obs.append(s)\n",
    "    good_acts.append(a)\n",
    "\n",
    "good_obs=np.vstack(good_obs)\n",
    "good_acts=np.vstack(good_acts)"
   ]
  },
  {
   "cell_type": "code",
   "execution_count": 7,
   "metadata": {},
   "outputs": [
    {
     "data": {
      "text/plain": [
       "((10000, 111), (10000, 8))"
      ]
     },
     "execution_count": 7,
     "metadata": {},
     "output_type": "execute_result"
    }
   ],
   "source": [
    "good_obs.shape, good_acts.shape"
   ]
  },
  {
   "cell_type": "code",
   "execution_count": 8,
   "metadata": {},
   "outputs": [
    {
     "data": {
      "text/plain": [
       "(torch.Size([64, 111]), torch.Size([64, 8]))"
      ]
     },
     "execution_count": 8,
     "metadata": {},
     "output_type": "execute_result"
    }
   ],
   "source": [
    "data_loader = DataLoader( list(zip(good_obs, good_acts)), batch_size=64, shuffle=True)\n",
    "\n",
    "batch=next(iter(data_loader))\n",
    "states,actions = batch\n",
    "states.shape,actions.shape"
   ]
  },
  {
   "cell_type": "code",
   "execution_count": 9,
   "metadata": {},
   "outputs": [
    {
     "name": "stdout",
     "output_type": "stream",
     "text": [
      "111 8\n"
     ]
    }
   ],
   "source": [
    "action_dim=actions.shape[1]\n",
    "state_dim=states.shape[1]\n",
    "print(state_dim, action_dim)"
   ]
  },
  {
   "cell_type": "code",
   "execution_count": null,
   "metadata": {},
   "outputs": [],
   "source": []
  },
  {
   "cell_type": "code",
   "execution_count": 10,
   "metadata": {},
   "outputs": [],
   "source": [
    "class MLP(nn.Module):\n",
    "    def __init__(self, input_dim, size=32):\n",
    "        super(MLP, self).__init__()\n",
    "        self.net = nn.Sequential(\n",
    "            nn.Linear(input_dim,size),\n",
    "            nn.ReLU(), \n",
    "            nn.Linear(size,size),\n",
    "            nn.ReLU() \n",
    "        )\n",
    "    def forward(self,x):\n",
    "        x = self.net(x)\n",
    "        return x\n",
    "    \n",
    "class RegNet(MLP):\n",
    "    def __init__(self, input_dim , size, action_dim):\n",
    "        super(RegNet, self).__init__(input_dim, size)\n",
    "        self.decoder = nn.Linear(size, action_dim)\n",
    "    def forward(self,x):\n",
    "        x = self.net(x)\n",
    "        x = self.decoder(x)\n",
    "        return x"
   ]
  },
  {
   "cell_type": "code",
   "execution_count": 11,
   "metadata": {},
   "outputs": [],
   "source": [
    "learning_rate = 1e-4\n",
    "\n",
    "bc = RegNet(state_dim, 64, action_dim)\n",
    "criterion = nn.MSELoss() \n",
    "optimizer = Adam(bc.parameters(), lr = learning_rate)"
   ]
  },
  {
   "cell_type": "code",
   "execution_count": 12,
   "metadata": {},
   "outputs": [
    {
     "name": "stdout",
     "output_type": "stream",
     "text": [
      "Epoch 0 Loss: 0.0869\n",
      "Epoch 50 Loss: 0.0070\n",
      "Epoch 100 Loss: 0.0055\n",
      "Epoch 150 Loss: 0.0049\n",
      "Epoch 200 Loss: 0.0045\n",
      "Epoch 250 Loss: 0.0042\n",
      "Epoch 300 Loss: 0.0040\n",
      "Epoch 350 Loss: 0.0039\n",
      "Epoch 400 Loss: 0.0037\n",
      "Epoch 450 Loss: 0.0036\n",
      "Epoch 500 Loss: 0.0036\n",
      "Epoch 550 Loss: 0.0035\n",
      "Epoch 600 Loss: 0.0034\n",
      "Epoch 650 Loss: 0.0034\n",
      "Epoch 700 Loss: 0.0033\n",
      "Epoch 750 Loss: 0.0033\n",
      "Epoch 800 Loss: 0.0032\n",
      "Epoch 850 Loss: 0.0032\n",
      "Epoch 900 Loss: 0.0032\n",
      "Epoch 950 Loss: 0.0031\n",
      "Epoch 1000 Loss: 0.0031\n"
     ]
    }
   ],
   "source": [
    "loss_list = []\n",
    "test_loss = [] \n",
    "n_epoch = 1_000\n",
    " \n",
    "for itr in range(0, n_epoch+1):\n",
    "    total_loss = 0\n",
    "    b=0\n",
    "    for batch_states, batch_actions in data_loader: \n",
    "        y_pred = bc(batch_states.float())\n",
    "        loss   = criterion(y_pred, batch_actions) \n",
    "        total_loss += loss.item() \n",
    "        optimizer.zero_grad()\n",
    "        loss.backward()\n",
    "        optimizer.step()\n",
    "        b += 1 \n",
    "        \n",
    "        loss_list.append(loss.item())\n",
    "        \n",
    "    if itr % (n_epoch//20)==0:\n",
    "        print(f'Epoch {itr} Loss: {total_loss/b:.4f}')"
   ]
  },
  {
   "cell_type": "code",
   "execution_count": null,
   "metadata": {},
   "outputs": [],
   "source": []
  },
  {
   "cell_type": "code",
   "execution_count": 13,
   "metadata": {},
   "outputs": [],
   "source": [
    "def play(env, policy, is_close=True, is_render=True, max_step=1000): \n",
    "    obs,info = env.reset()\n",
    "    dones=False\n",
    "    total_r=0\n",
    "    step=0\n",
    "    while not dones: \n",
    "        step+=1\n",
    "        obs=torch.Tensor(obs[None]).to(device)\n",
    "        ac = policy(obs)\n",
    "        action=ac.cpu().detach().numpy() \n",
    "\n",
    "        obs, rewards, done, s, info = env.step(action.ravel())\n",
    "        total_r +=rewards  \n",
    "        if done:\n",
    "            break\n",
    "        if step>max_step:\n",
    "            # print('max step reached')\n",
    "            break\n",
    "        # elif s:\n",
    "        #     print('solved!')\n",
    "        #     break\n",
    "    if is_close:\n",
    "        env.close()\n",
    "    return {'reward':total_r, 'step':step-1}"
   ]
  },
  {
   "cell_type": "code",
   "execution_count": 14,
   "metadata": {},
   "outputs": [
    {
     "data": {
      "text/plain": [
       "{'reward': 4048.60897787418, 'step': 1000}"
      ]
     },
     "execution_count": 14,
     "metadata": {},
     "output_type": "execute_result"
    }
   ],
   "source": [
    "env = gym.make(env_name)\n",
    "play(env, bc, is_close=True, is_render=False)"
   ]
  },
  {
   "cell_type": "code",
   "execution_count": 15,
   "metadata": {},
   "outputs": [
    {
     "name": "stdout",
     "output_type": "stream",
     "text": [
      "episode #0 reward: 4137.56\n",
      "episode #1 reward: 4169.83\n",
      "episode #2 reward: 4121.55\n",
      "episode #3 reward: 4164.70\n",
      "episode #4 reward: 3919.30\n",
      "episode #5 reward: 3715.23\n",
      "episode #6 reward: 4086.71\n",
      "episode #7 reward: 4140.05\n",
      "episode #8 reward: 4035.92\n",
      "episode #9 reward: 4138.06\n",
      "episode #10 reward: 4012.36\n",
      "episode #11 reward: 2208.48\n",
      "episode #12 reward: 4056.03\n",
      "episode #13 reward: 4132.13\n",
      "episode #14 reward: 4008.43\n",
      "episode #15 reward: 4096.09\n",
      "episode #16 reward: 4094.08\n",
      "episode #17 reward: 4177.33\n",
      "episode #18 reward: 4035.93\n",
      "episode #19 reward: 4138.87\n",
      "\n",
      " score: 3979.43 +- 419.33\n"
     ]
    }
   ],
   "source": [
    "scores=[]\n",
    "n_trajectory=20\n",
    "for i in range(n_trajectory):\n",
    "    stats=play(env, bc, is_close=True, is_render=False)\n",
    "    rewards=stats['reward']\n",
    "    print(f'episode #{i} reward: {rewards:0.2f}')\n",
    "    scores.append(rewards)\n",
    "\n",
    "print(f'\\n score: {np.mean(scores):0.2f} +- {np.std(scores):0.2f}')"
   ]
  },
  {
   "cell_type": "code",
   "execution_count": null,
   "metadata": {},
   "outputs": [],
   "source": []
  },
  {
   "cell_type": "code",
   "execution_count": null,
   "metadata": {},
   "outputs": [],
   "source": []
  },
  {
   "cell_type": "code",
   "execution_count": null,
   "metadata": {},
   "outputs": [],
   "source": []
  },
  {
   "cell_type": "code",
   "execution_count": null,
   "metadata": {},
   "outputs": [],
   "source": []
  }
 ],
 "metadata": {
  "kernelspec": {
   "display_name": "imitation-dice",
   "language": "python",
   "name": "python3"
  },
  "language_info": {
   "codemirror_mode": {
    "name": "ipython",
    "version": 3
   },
   "file_extension": ".py",
   "mimetype": "text/x-python",
   "name": "python",
   "nbconvert_exporter": "python",
   "pygments_lexer": "ipython3",
   "version": "3.9.12"
  },
  "orig_nbformat": 4
 },
 "nbformat": 4,
 "nbformat_minor": 2
}
